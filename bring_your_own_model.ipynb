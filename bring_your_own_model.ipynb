{
 "cells": [
  {
   "cell_type": "markdown",
   "metadata": {},
   "source": [
    "# AWS Sagemaker: Bring Your Own Model\n"
   ]
  },
  {
   "cell_type": "markdown",
   "metadata": {},
   "source": [
    "This notebook shows how to dockerize **any machine learning algorithm** and deploy it in the cloud. It is written in conjunction with this [medium post](https://medium.com/p/92778dabb32f)."
   ]
  },
  {
   "cell_type": "markdown",
   "metadata": {},
   "source": [
    "Let's change into the 'container' directory"
   ]
  },
  {
   "cell_type": "code",
   "execution_count": 1,
   "metadata": {},
   "outputs": [
    {
     "name": "stdout",
     "output_type": "stream",
     "text": [
      "/home/sam/github/amazon-sagemaker-byom/container\n"
     ]
    }
   ],
   "source": [
    "cd container"
   ]
  },
  {
   "cell_type": "markdown",
   "metadata": {},
   "source": [
    "*that bash command worked in a Python notebook because it is [automagic](https://jakevdp.github.io/PythonDataScienceHandbook/01.05-ipython-and-shell-commands.html).*"
   ]
  },
  {
   "cell_type": "markdown",
   "metadata": {},
   "source": [
    "Let's also import some code"
   ]
  },
  {
   "cell_type": "code",
   "execution_count": 2,
   "metadata": {},
   "outputs": [],
   "source": [
    "import json \n",
    "from IPython.display import Image\n",
    "\n",
    "from utils.get_model import download_ResNet50\n",
    "from utils.name_check import name_check\n",
    "from utils import local\n",
    "\n",
    "\n",
    "\n"
   ]
  },
  {
   "cell_type": "markdown",
   "metadata": {},
   "source": [
    "## A trained model"
   ]
  },
  {
   "cell_type": "markdown",
   "metadata": {},
   "source": [
    "Let's download a trained model. This example uses [ResNet50](https://arxiv.org/abs/1512.03385) trained on ImageNet. It is one of the Keras [available models](https://keras.io/applications/#available-models). You **can** use a framework other than Keras. Basically anything will run in a Docker container."
   ]
  },
  {
   "cell_type": "code",
   "execution_count": null,
   "metadata": {},
   "outputs": [],
   "source": [
    "download_ResNet50()"
   ]
  },
  {
   "cell_type": "markdown",
   "metadata": {},
   "source": [
    "That downloaded *model.json* and *weights.hdf5*. These files represent the model architecture and trained weights. When you are ready you can replace them with your own trained model. Here is where they go."
   ]
  },
  {
   "cell_type": "code",
   "execution_count": 3,
   "metadata": {},
   "outputs": [
    {
     "name": "stdout",
     "output_type": "stream",
     "text": [
      "model.json  weights.hdf5\r\n"
     ]
    }
   ],
   "source": [
    "ls model"
   ]
  },
  {
   "cell_type": "markdown",
   "metadata": {},
   "source": [
    "## Build Docker image"
   ]
  },
  {
   "cell_type": "markdown",
   "metadata": {},
   "source": [
    "Install Docker for [Windows](https://docs.docker.com/toolbox/toolbox_install_windows/) or [Mac](https://docs.docker.com/toolbox/toolbox_install_mac/). \n",
    "\n",
    "**Linux Install**\n",
    "\n",
    "For Debian-based systems, copy and paste this into a separate terminal."
   ]
  },
  {
   "cell_type": "code",
   "execution_count": 4,
   "metadata": {},
   "outputs": [],
   "source": [
    "# $ sudo apt install docker.io"
   ]
  },
  {
   "cell_type": "markdown",
   "metadata": {},
   "source": [
    "For any other distro copy and paste this:"
   ]
  },
  {
   "cell_type": "code",
   "execution_count": 5,
   "metadata": {},
   "outputs": [],
   "source": [
    "# $wget -qO- https://get.docker.com/ | sh"
   ]
  },
  {
   "cell_type": "markdown",
   "metadata": {},
   "source": [
    "for further help (if required) check the docs for [Ubuntu](https://docs.docker.com/v17.09/engine/installation/linux/docker-ce/ubuntu/), [Debian](https://docs.docker.com/v17.09/engine/installation/linux/docker-ce/debian/), [CentOS](https://docs.docker.com/v17.09/engine/installation/linux/docker-ce/centos/) or [Fedora](https://docs.docker.com/v17.09/engine/installation/linux/docker-ce/fedora/)."
   ]
  },
  {
   "cell_type": "markdown",
   "metadata": {},
   "source": [
    "*Post-Installation*\n",
    "\n",
    "For all Linux installtions **[add your user to a docker group](https://docs.docker.com/v17.09/engine/installation/linux/linux-postinstall/#manage-docker-as-a-non-root-user)** to avoid using sudo."
   ]
  },
  {
   "cell_type": "markdown",
   "metadata": {},
   "source": [
    "**Docker Build**\n",
    "\n",
    "Let's name the Docker image we are about to build"
   ]
  },
  {
   "cell_type": "code",
   "execution_count": 6,
   "metadata": {},
   "outputs": [],
   "source": [
    "name = 'imagnet'\n",
    "tag = 'dev-1.0.0'"
   ]
  },
  {
   "cell_type": "markdown",
   "metadata": {},
   "source": [
    "There are a bunch of restrictions imposed by Amazon and Docker on the name we can use. Long story short, chose a lower case, alphanumeric *name*. The *tag* has less retrictions.\n",
    "\n",
    "Let's check the name is valid before investing time in building an image."
   ]
  },
  {
   "cell_type": "code",
   "execution_count": 7,
   "metadata": {},
   "outputs": [
    {
     "data": {
      "text/plain": [
       "'The name \"imagnet\" is valid'"
      ]
     },
     "execution_count": 7,
     "metadata": {},
     "output_type": "execute_result"
    }
   ],
   "source": [
    "name_check(name)"
   ]
  },
  {
   "cell_type": "markdown",
   "metadata": {},
   "source": [
    "Assuming the name is valid, let's build the image"
   ]
  },
  {
   "cell_type": "code",
   "execution_count": 8,
   "metadata": {},
   "outputs": [
    {
     "name": "stdout",
     "output_type": "stream",
     "text": [
      "Sending build context to Docker daemon  103.1MB\n",
      "Step 1/12 : FROM ubuntu:16.04\n",
      " ---> 7aa3602ab41e\n",
      "Step 2/12 : MAINTAINER Sam Murphy <samsammurphy@gmail.com>\n",
      " ---> Running in 2386f8c08f8c\n",
      "Removing intermediate container 2386f8c08f8c\n",
      " ---> 92c6cc4d9fb8\n",
      "Step 3/12 : EXPOSE 8080\n",
      " ---> Running in 266fd071f338\n",
      "Removing intermediate container 266fd071f338\n",
      " ---> 10f415ee91d0\n",
      "Step 4/12 : RUN apt-get -y update && apt-get install -y --no-install-recommends          wget          python          nginx          ca-certificates     && rm -rf /var/lib/apt/lists/*\n",
      " ---> Running in fb958cbb3535\n",
      "Get:1 http://security.ubuntu.com/ubuntu xenial-security InRelease [107 kB]\n",
      "Get:2 http://archive.ubuntu.com/ubuntu xenial InRelease [247 kB]\n",
      "Get:3 http://archive.ubuntu.com/ubuntu xenial-updates InRelease [109 kB]\n",
      "Get:4 http://archive.ubuntu.com/ubuntu xenial-backports InRelease [107 kB]\n",
      "Get:5 http://security.ubuntu.com/ubuntu xenial-security/universe Sources [85.7 kB]\n",
      "Get:6 http://security.ubuntu.com/ubuntu xenial-security/main amd64 Packages [676 kB]\n",
      "Get:7 http://archive.ubuntu.com/ubuntu xenial/universe Sources [9802 kB]\n",
      "Get:8 http://security.ubuntu.com/ubuntu xenial-security/restricted amd64 Packages [12.7 kB]\n",
      "Get:9 http://security.ubuntu.com/ubuntu xenial-security/universe amd64 Packages [458 kB]\n",
      "Get:10 http://security.ubuntu.com/ubuntu xenial-security/multiverse amd64 Packages [3746 B]\n",
      "Get:11 http://archive.ubuntu.com/ubuntu xenial/main amd64 Packages [1558 kB]\n",
      "Get:12 http://archive.ubuntu.com/ubuntu xenial/restricted amd64 Packages [14.1 kB]\n",
      "Get:13 http://archive.ubuntu.com/ubuntu xenial/universe amd64 Packages [9827 kB]\n",
      "Get:14 http://archive.ubuntu.com/ubuntu xenial/multiverse amd64 Packages [176 kB]\n",
      "Get:15 http://archive.ubuntu.com/ubuntu xenial-updates/universe Sources [273 kB]\n",
      "Get:16 http://archive.ubuntu.com/ubuntu xenial-updates/main amd64 Packages [1060 kB]\n",
      "Get:17 http://archive.ubuntu.com/ubuntu xenial-updates/restricted amd64 Packages [13.1 kB]\n",
      "Get:18 http://archive.ubuntu.com/ubuntu xenial-updates/universe amd64 Packages [870 kB]\n",
      "Get:19 http://archive.ubuntu.com/ubuntu xenial-updates/multiverse amd64 Packages [18.8 kB]\n",
      "Get:20 http://archive.ubuntu.com/ubuntu xenial-backports/main amd64 Packages [7321 B]\n",
      "Get:21 http://archive.ubuntu.com/ubuntu xenial-backports/universe amd64 Packages [8086 B]\n",
      "Fetched 25.4 MB in 9s (2648 kB/s)\n",
      "Reading package lists...\n",
      "Reading package lists...\n",
      "Building dependency tree...\n",
      "Reading state information...\n",
      "The following additional packages will be installed:\n",
      "  fontconfig-config fonts-dejavu-core libexpat1 libffi6 libfontconfig1\n",
      "  libfreetype6 libgd3 libgeoip1 libicu55 libidn11 libjbig0 libjpeg-turbo8\n",
      "  libjpeg8 libpng12-0 libpython-stdlib libpython2.7-minimal\n",
      "  libpython2.7-stdlib libsqlite3-0 libssl1.0.0 libtiff5 libvpx3 libx11-6\n",
      "  libx11-data libxau6 libxcb1 libxdmcp6 libxml2 libxpm4 libxslt1.1\n",
      "  mime-support nginx-common nginx-core openssl python-minimal python2.7\n",
      "  python2.7-minimal ucf\n",
      "Suggested packages:\n",
      "  libgd-tools geoip-bin fcgiwrap nginx-doc ssl-cert python-doc python-tk\n",
      "  python2.7-doc binutils binfmt-support\n",
      "Recommended packages:\n",
      "  geoip-database xml-core file\n",
      "The following NEW packages will be installed:\n",
      "  ca-certificates fontconfig-config fonts-dejavu-core libexpat1 libffi6\n",
      "  libfontconfig1 libfreetype6 libgd3 libgeoip1 libicu55 libidn11 libjbig0\n",
      "  libjpeg-turbo8 libjpeg8 libpng12-0 libpython-stdlib libpython2.7-minimal\n",
      "  libpython2.7-stdlib libsqlite3-0 libssl1.0.0 libtiff5 libvpx3 libx11-6\n",
      "  libx11-data libxau6 libxcb1 libxdmcp6 libxml2 libxpm4 libxslt1.1\n",
      "  mime-support nginx nginx-common nginx-core openssl python python-minimal\n",
      "  python2.7 python2.7-minimal ucf wget\n",
      "0 upgraded, 41 newly installed, 0 to remove and 4 not upgraded.\n",
      "Need to get 19.1 MB of archives.\n",
      "After this operation, 71.7 MB of additional disk space will be used.\n",
      "Get:1 http://archive.ubuntu.com/ubuntu xenial/main amd64 libxau6 amd64 1:1.0.8-1 [8376 B]\n",
      "Get:2 http://archive.ubuntu.com/ubuntu xenial-updates/main amd64 libjpeg-turbo8 amd64 1.4.2-0ubuntu3.1 [111 kB]\n",
      "Get:3 http://archive.ubuntu.com/ubuntu xenial-updates/main amd64 libpython2.7-minimal amd64 2.7.12-1ubuntu0~16.04.3 [340 kB]\n",
      "Get:4 http://archive.ubuntu.com/ubuntu xenial-updates/main amd64 python2.7-minimal amd64 2.7.12-1ubuntu0~16.04.3 [1261 kB]\n",
      "Get:5 http://archive.ubuntu.com/ubuntu xenial-updates/main amd64 python-minimal amd64 2.7.12-1~16.04 [28.1 kB]\n",
      "Get:6 http://archive.ubuntu.com/ubuntu xenial/main amd64 mime-support all 3.59ubuntu1 [31.0 kB]\n",
      "Get:7 http://archive.ubuntu.com/ubuntu xenial-updates/main amd64 libexpat1 amd64 2.1.0-7ubuntu0.16.04.3 [71.2 kB]\n",
      "Get:8 http://archive.ubuntu.com/ubuntu xenial/main amd64 libffi6 amd64 3.2.1-4 [17.8 kB]\n",
      "Get:9 http://archive.ubuntu.com/ubuntu xenial/main amd64 libsqlite3-0 amd64 3.11.0-1ubuntu1 [396 kB]\n",
      "Get:10 http://archive.ubuntu.com/ubuntu xenial-updates/main amd64 libssl1.0.0 amd64 1.0.2g-1ubuntu4.13 [1083 kB]\n",
      "Get:11 http://archive.ubuntu.com/ubuntu xenial-updates/main amd64 libpython2.7-stdlib amd64 2.7.12-1ubuntu0~16.04.3 [1880 kB]\n",
      "Get:12 http://archive.ubuntu.com/ubuntu xenial-updates/main amd64 python2.7 amd64 2.7.12-1ubuntu0~16.04.3 [224 kB]\n",
      "Get:13 http://archive.ubuntu.com/ubuntu xenial-updates/main amd64 libpython-stdlib amd64 2.7.12-1~16.04 [7768 B]\n",
      "Get:14 http://archive.ubuntu.com/ubuntu xenial-updates/main amd64 python amd64 2.7.12-1~16.04 [137 kB]\n",
      "Get:15 http://archive.ubuntu.com/ubuntu xenial/main amd64 libjbig0 amd64 2.1-3.1 [26.6 kB]\n",
      "Get:16 http://archive.ubuntu.com/ubuntu xenial-updates/main amd64 libidn11 amd64 1.32-3ubuntu1.2 [46.5 kB]\n",
      "Get:17 http://archive.ubuntu.com/ubuntu xenial-updates/main amd64 libpng12-0 amd64 1.2.54-1ubuntu1.1 [116 kB]\n",
      "Get:18 http://archive.ubuntu.com/ubuntu xenial/main amd64 ucf all 3.0036 [52.9 kB]\n",
      "Get:19 http://archive.ubuntu.com/ubuntu xenial-updates/main amd64 openssl amd64 1.0.2g-1ubuntu4.13 [492 kB]\n",
      "Get:20 http://archive.ubuntu.com/ubuntu xenial-updates/main amd64 ca-certificates all 20170717~16.04.1 [168 kB]\n",
      "Get:21 http://archive.ubuntu.com/ubuntu xenial/main amd64 libgeoip1 amd64 1.6.9-1 [70.1 kB]\n",
      "Get:22 http://archive.ubuntu.com/ubuntu xenial-updates/main amd64 libicu55 amd64 55.1-7ubuntu0.4 [7646 kB]\n",
      "Get:23 http://archive.ubuntu.com/ubuntu xenial/main amd64 libxdmcp6 amd64 1:1.1.2-1.1 [11.0 kB]\n",
      "Get:24 http://archive.ubuntu.com/ubuntu xenial/main amd64 libxcb1 amd64 1.11.1-1ubuntu1 [40.0 kB]\n",
      "Get:25 http://archive.ubuntu.com/ubuntu xenial/main amd64 libx11-data all 2:1.6.3-1ubuntu2 [113 kB]\n",
      "Get:26 http://archive.ubuntu.com/ubuntu xenial/main amd64 libx11-6 amd64 2:1.6.3-1ubuntu2 [571 kB]\n",
      "Get:27 http://archive.ubuntu.com/ubuntu xenial-updates/main amd64 libxml2 amd64 2.9.3+dfsg1-1ubuntu0.5 [697 kB]\n",
      "Get:28 http://archive.ubuntu.com/ubuntu xenial-updates/main amd64 wget amd64 1.17.1-1ubuntu1.4 [299 kB]\n",
      "Get:29 http://archive.ubuntu.com/ubuntu xenial/main amd64 fonts-dejavu-core all 2.35-1 [1039 kB]\n",
      "Get:30 http://archive.ubuntu.com/ubuntu xenial-updates/main amd64 fontconfig-config all 2.11.94-0ubuntu1.1 [49.9 kB]\n",
      "Get:31 http://archive.ubuntu.com/ubuntu xenial-updates/main amd64 libfreetype6 amd64 2.6.1-0.1ubuntu2.3 [316 kB]\n",
      "Get:32 http://archive.ubuntu.com/ubuntu xenial-updates/main amd64 libfontconfig1 amd64 2.11.94-0ubuntu1.1 [131 kB]\n",
      "Get:33 http://archive.ubuntu.com/ubuntu xenial/main amd64 libjpeg8 amd64 8c-2ubuntu8 [2194 B]\n",
      "Get:34 http://archive.ubuntu.com/ubuntu xenial-updates/main amd64 libtiff5 amd64 4.0.6-1ubuntu0.4 [148 kB]\n",
      "Get:35 http://archive.ubuntu.com/ubuntu xenial/main amd64 libvpx3 amd64 1.5.0-2ubuntu1 [732 kB]\n",
      "Get:36 http://archive.ubuntu.com/ubuntu xenial-updates/main amd64 libxpm4 amd64 1:3.5.11-1ubuntu0.16.04.1 [33.8 kB]\n",
      "Get:37 http://archive.ubuntu.com/ubuntu xenial-updates/main amd64 libgd3 amd64 2.1.1-4ubuntu0.16.04.8 [126 kB]\n",
      "Get:38 http://archive.ubuntu.com/ubuntu xenial-updates/main amd64 libxslt1.1 amd64 1.1.28-2.1ubuntu0.1 [145 kB]\n",
      "Get:39 http://archive.ubuntu.com/ubuntu xenial-updates/main amd64 nginx-common all 1.10.3-0ubuntu0.16.04.2 [26.6 kB]\n",
      "Get:40 http://archive.ubuntu.com/ubuntu xenial-updates/main amd64 nginx-core amd64 1.10.3-0ubuntu0.16.04.2 [428 kB]\n",
      "Get:41 http://archive.ubuntu.com/ubuntu xenial-updates/main amd64 nginx all 1.10.3-0ubuntu0.16.04.2 [3490 B]\n"
     ]
    },
    {
     "name": "stdout",
     "output_type": "stream",
     "text": [
      "\u001b[91mdebconf: delaying package configuration, since apt-utils is not installed\n",
      "\u001b[0mFetched 19.1 MB in 7s (2575 kB/s)\n",
      "Selecting previously unselected package libxau6:amd64.\n",
      "(Reading database ... 4768 files and directories currently installed.)\n",
      "Preparing to unpack .../libxau6_1%3a1.0.8-1_amd64.deb ...\n",
      "Unpacking libxau6:amd64 (1:1.0.8-1) ...\n",
      "Selecting previously unselected package libjpeg-turbo8:amd64.\n",
      "Preparing to unpack .../libjpeg-turbo8_1.4.2-0ubuntu3.1_amd64.deb ...\n",
      "Unpacking libjpeg-turbo8:amd64 (1.4.2-0ubuntu3.1) ...\n",
      "Selecting previously unselected package libpython2.7-minimal:amd64.\n",
      "Preparing to unpack .../libpython2.7-minimal_2.7.12-1ubuntu0~16.04.3_amd64.deb ...\n",
      "Unpacking libpython2.7-minimal:amd64 (2.7.12-1ubuntu0~16.04.3) ...\n",
      "Selecting previously unselected package python2.7-minimal.\n",
      "Preparing to unpack .../python2.7-minimal_2.7.12-1ubuntu0~16.04.3_amd64.deb ...\n",
      "Unpacking python2.7-minimal (2.7.12-1ubuntu0~16.04.3) ...\n",
      "Selecting previously unselected package python-minimal.\n",
      "Preparing to unpack .../python-minimal_2.7.12-1~16.04_amd64.deb ...\n",
      "Unpacking python-minimal (2.7.12-1~16.04) ...\n",
      "Selecting previously unselected package mime-support.\n",
      "Preparing to unpack .../mime-support_3.59ubuntu1_all.deb ...\n",
      "Unpacking mime-support (3.59ubuntu1) ...\n",
      "Selecting previously unselected package libexpat1:amd64.\n",
      "Preparing to unpack .../libexpat1_2.1.0-7ubuntu0.16.04.3_amd64.deb ...\n",
      "Unpacking libexpat1:amd64 (2.1.0-7ubuntu0.16.04.3) ...\n",
      "Selecting previously unselected package libffi6:amd64.\n",
      "Preparing to unpack .../libffi6_3.2.1-4_amd64.deb ...\n",
      "Unpacking libffi6:amd64 (3.2.1-4) ...\n",
      "Selecting previously unselected package libsqlite3-0:amd64.\n",
      "Preparing to unpack .../libsqlite3-0_3.11.0-1ubuntu1_amd64.deb ...\n",
      "Unpacking libsqlite3-0:amd64 (3.11.0-1ubuntu1) ...\n",
      "Selecting previously unselected package libssl1.0.0:amd64.\n",
      "Preparing to unpack .../libssl1.0.0_1.0.2g-1ubuntu4.13_amd64.deb ...\n",
      "Unpacking libssl1.0.0:amd64 (1.0.2g-1ubuntu4.13) ...\n",
      "Selecting previously unselected package libpython2.7-stdlib:amd64.\n",
      "Preparing to unpack .../libpython2.7-stdlib_2.7.12-1ubuntu0~16.04.3_amd64.deb ...\n",
      "Unpacking libpython2.7-stdlib:amd64 (2.7.12-1ubuntu0~16.04.3) ...\n",
      "Selecting previously unselected package python2.7.\n",
      "Preparing to unpack .../python2.7_2.7.12-1ubuntu0~16.04.3_amd64.deb ...\n",
      "Unpacking python2.7 (2.7.12-1ubuntu0~16.04.3) ...\n",
      "Selecting previously unselected package libpython-stdlib:amd64.\n",
      "Preparing to unpack .../libpython-stdlib_2.7.12-1~16.04_amd64.deb ...\n",
      "Unpacking libpython-stdlib:amd64 (2.7.12-1~16.04) ...\n",
      "Processing triggers for libc-bin (2.23-0ubuntu10) ...\n",
      "Setting up libpython2.7-minimal:amd64 (2.7.12-1ubuntu0~16.04.3) ...\n",
      "Setting up python2.7-minimal (2.7.12-1ubuntu0~16.04.3) ...\n",
      "Linking and byte-compiling packages for runtime python2.7...\n",
      "Setting up python-minimal (2.7.12-1~16.04) ...\n",
      "Selecting previously unselected package python.\n",
      "(Reading database ... 5590 files and directories currently installed.)\n",
      "Preparing to unpack .../python_2.7.12-1~16.04_amd64.deb ...\n",
      "Unpacking python (2.7.12-1~16.04) ...\n",
      "Selecting previously unselected package libjbig0:amd64.\n",
      "Preparing to unpack .../libjbig0_2.1-3.1_amd64.deb ...\n",
      "Unpacking libjbig0:amd64 (2.1-3.1) ...\n",
      "Selecting previously unselected package libidn11:amd64.\n",
      "Preparing to unpack .../libidn11_1.32-3ubuntu1.2_amd64.deb ...\n",
      "Unpacking libidn11:amd64 (1.32-3ubuntu1.2) ...\n",
      "Selecting previously unselected package libpng12-0:amd64.\n",
      "Preparing to unpack .../libpng12-0_1.2.54-1ubuntu1.1_amd64.deb ...\n",
      "Unpacking libpng12-0:amd64 (1.2.54-1ubuntu1.1) ...\n",
      "Selecting previously unselected package ucf.\n",
      "Preparing to unpack .../archives/ucf_3.0036_all.deb ...\n",
      "Moving old data out of the way\n",
      "Unpacking ucf (3.0036) ...\n",
      "Selecting previously unselected package openssl.\n",
      "Preparing to unpack .../openssl_1.0.2g-1ubuntu4.13_amd64.deb ...\n",
      "Unpacking openssl (1.0.2g-1ubuntu4.13) ...\n",
      "Selecting previously unselected package ca-certificates.\n",
      "Preparing to unpack .../ca-certificates_20170717~16.04.1_all.deb ...\n",
      "Unpacking ca-certificates (20170717~16.04.1) ...\n",
      "Selecting previously unselected package libgeoip1:amd64.\n",
      "Preparing to unpack .../libgeoip1_1.6.9-1_amd64.deb ...\n",
      "Unpacking libgeoip1:amd64 (1.6.9-1) ...\n",
      "Selecting previously unselected package libicu55:amd64.\n",
      "Preparing to unpack .../libicu55_55.1-7ubuntu0.4_amd64.deb ...\n",
      "Unpacking libicu55:amd64 (55.1-7ubuntu0.4) ...\n",
      "Selecting previously unselected package libxdmcp6:amd64.\n",
      "Preparing to unpack .../libxdmcp6_1%3a1.1.2-1.1_amd64.deb ...\n",
      "Unpacking libxdmcp6:amd64 (1:1.1.2-1.1) ...\n",
      "Selecting previously unselected package libxcb1:amd64.\n",
      "Preparing to unpack .../libxcb1_1.11.1-1ubuntu1_amd64.deb ...\n",
      "Unpacking libxcb1:amd64 (1.11.1-1ubuntu1) ...\n",
      "Selecting previously unselected package libx11-data.\n",
      "Preparing to unpack .../libx11-data_2%3a1.6.3-1ubuntu2_all.deb ...\n",
      "Unpacking libx11-data (2:1.6.3-1ubuntu2) ...\n",
      "Selecting previously unselected package libx11-6:amd64.\n",
      "Preparing to unpack .../libx11-6_2%3a1.6.3-1ubuntu2_amd64.deb ...\n",
      "Unpacking libx11-6:amd64 (2:1.6.3-1ubuntu2) ...\n",
      "Selecting previously unselected package libxml2:amd64.\n",
      "Preparing to unpack .../libxml2_2.9.3+dfsg1-1ubuntu0.5_amd64.deb ...\n",
      "Unpacking libxml2:amd64 (2.9.3+dfsg1-1ubuntu0.5) ...\n",
      "Selecting previously unselected package wget.\n",
      "Preparing to unpack .../wget_1.17.1-1ubuntu1.4_amd64.deb ...\n",
      "Unpacking wget (1.17.1-1ubuntu1.4) ...\n",
      "Selecting previously unselected package fonts-dejavu-core.\n",
      "Preparing to unpack .../fonts-dejavu-core_2.35-1_all.deb ...\n",
      "Unpacking fonts-dejavu-core (2.35-1) ...\n",
      "Selecting previously unselected package fontconfig-config.\n",
      "Preparing to unpack .../fontconfig-config_2.11.94-0ubuntu1.1_all.deb ...\n",
      "Unpacking fontconfig-config (2.11.94-0ubuntu1.1) ...\n",
      "Selecting previously unselected package libfreetype6:amd64.\n",
      "Preparing to unpack .../libfreetype6_2.6.1-0.1ubuntu2.3_amd64.deb ...\n",
      "Unpacking libfreetype6:amd64 (2.6.1-0.1ubuntu2.3) ...\n",
      "Selecting previously unselected package libfontconfig1:amd64.\n",
      "Preparing to unpack .../libfontconfig1_2.11.94-0ubuntu1.1_amd64.deb ...\n",
      "Unpacking libfontconfig1:amd64 (2.11.94-0ubuntu1.1) ...\n",
      "Selecting previously unselected package libjpeg8:amd64.\n",
      "Preparing to unpack .../libjpeg8_8c-2ubuntu8_amd64.deb ...\n",
      "Unpacking libjpeg8:amd64 (8c-2ubuntu8) ...\n",
      "Selecting previously unselected package libtiff5:amd64.\n",
      "Preparing to unpack .../libtiff5_4.0.6-1ubuntu0.4_amd64.deb ...\n",
      "Unpacking libtiff5:amd64 (4.0.6-1ubuntu0.4) ...\n",
      "Selecting previously unselected package libvpx3:amd64.\n",
      "Preparing to unpack .../libvpx3_1.5.0-2ubuntu1_amd64.deb ...\n",
      "Unpacking libvpx3:amd64 (1.5.0-2ubuntu1) ...\n",
      "Selecting previously unselected package libxpm4:amd64.\n",
      "Preparing to unpack .../libxpm4_1%3a3.5.11-1ubuntu0.16.04.1_amd64.deb ...\n",
      "Unpacking libxpm4:amd64 (1:3.5.11-1ubuntu0.16.04.1) ...\n",
      "Selecting previously unselected package libgd3:amd64.\n",
      "Preparing to unpack .../libgd3_2.1.1-4ubuntu0.16.04.8_amd64.deb ...\n",
      "Unpacking libgd3:amd64 (2.1.1-4ubuntu0.16.04.8) ...\n",
      "Selecting previously unselected package libxslt1.1:amd64.\n",
      "Preparing to unpack .../libxslt1.1_1.1.28-2.1ubuntu0.1_amd64.deb ...\n",
      "Unpacking libxslt1.1:amd64 (1.1.28-2.1ubuntu0.1) ...\n",
      "Selecting previously unselected package nginx-common.\n",
      "Preparing to unpack .../nginx-common_1.10.3-0ubuntu0.16.04.2_all.deb ...\n",
      "Unpacking nginx-common (1.10.3-0ubuntu0.16.04.2) ...\n",
      "Selecting previously unselected package nginx-core.\n",
      "Preparing to unpack .../nginx-core_1.10.3-0ubuntu0.16.04.2_amd64.deb ...\n",
      "Unpacking nginx-core (1.10.3-0ubuntu0.16.04.2) ...\n",
      "Selecting previously unselected package nginx.\n",
      "Preparing to unpack .../nginx_1.10.3-0ubuntu0.16.04.2_all.deb ...\n",
      "Unpacking nginx (1.10.3-0ubuntu0.16.04.2) ...\n",
      "Processing triggers for libc-bin (2.23-0ubuntu10) ...\n",
      "Processing triggers for systemd (229-4ubuntu21.2) ...\n",
      "Setting up libxau6:amd64 (1:1.0.8-1) ...\n",
      "Setting up libjpeg-turbo8:amd64 (1.4.2-0ubuntu3.1) ...\n",
      "Setting up mime-support (3.59ubuntu1) ...\n",
      "Setting up libexpat1:amd64 (2.1.0-7ubuntu0.16.04.3) ...\n",
      "Setting up libffi6:amd64 (3.2.1-4) ...\n",
      "Setting up libsqlite3-0:amd64 (3.11.0-1ubuntu1) ...\n",
      "Setting up libssl1.0.0:amd64 (1.0.2g-1ubuntu4.13) ...\n",
      "debconf: unable to initialize frontend: Dialog\n",
      "debconf: (TERM is not set, so the dialog frontend is not usable.)\n",
      "debconf: falling back to frontend: Readline\n",
      "debconf: unable to initialize frontend: Readline\n",
      "debconf: (Can't locate Term/ReadLine.pm in @INC (you may need to install the Term::ReadLine module) (@INC contains: /etc/perl /usr/local/lib/x86_64-linux-gnu/perl/5.22.1 /usr/local/share/perl/5.22.1 /usr/lib/x86_64-linux-gnu/perl5/5.22 /usr/share/perl5 /usr/lib/x86_64-linux-gnu/perl/5.22 /usr/share/perl/5.22 /usr/local/lib/site_perl /usr/lib/x86_64-linux-gnu/perl-base .) at /usr/share/perl5/Debconf/FrontEnd/Readline.pm line 7.)\n",
      "debconf: falling back to frontend: Teletype\n"
     ]
    },
    {
     "name": "stdout",
     "output_type": "stream",
     "text": [
      "Setting up libpython2.7-stdlib:amd64 (2.7.12-1ubuntu0~16.04.3) ...\n",
      "Setting up python2.7 (2.7.12-1ubuntu0~16.04.3) ...\n",
      "Setting up libpython-stdlib:amd64 (2.7.12-1~16.04) ...\n",
      "Setting up python (2.7.12-1~16.04) ...\n",
      "Setting up libjbig0:amd64 (2.1-3.1) ...\n",
      "Setting up libidn11:amd64 (1.32-3ubuntu1.2) ...\n",
      "Setting up libpng12-0:amd64 (1.2.54-1ubuntu1.1) ...\n",
      "Setting up ucf (3.0036) ...\n",
      "debconf: unable to initialize frontend: Dialog\n",
      "debconf: (TERM is not set, so the dialog frontend is not usable.)\n",
      "debconf: falling back to frontend: Readline\n",
      "debconf: unable to initialize frontend: Readline\n",
      "debconf: (Can't locate Term/ReadLine.pm in @INC (you may need to install the Term::ReadLine module) (@INC contains: /etc/perl /usr/local/lib/x86_64-linux-gnu/perl/5.22.1 /usr/local/share/perl/5.22.1 /usr/lib/x86_64-linux-gnu/perl5/5.22 /usr/share/perl5 /usr/lib/x86_64-linux-gnu/perl/5.22 /usr/share/perl/5.22 /usr/local/lib/site_perl /usr/lib/x86_64-linux-gnu/perl-base .) at /usr/share/perl5/Debconf/FrontEnd/Readline.pm line 7.)\n",
      "debconf: falling back to frontend: Teletype\n",
      "Setting up openssl (1.0.2g-1ubuntu4.13) ...\n",
      "Setting up ca-certificates (20170717~16.04.1) ...\n",
      "debconf: unable to initialize frontend: Dialog\n",
      "debconf: (TERM is not set, so the dialog frontend is not usable.)\n",
      "debconf: falling back to frontend: Readline\n",
      "debconf: unable to initialize frontend: Readline\n",
      "debconf: (Can't locate Term/ReadLine.pm in @INC (you may need to install the Term::ReadLine module) (@INC contains: /etc/perl /usr/local/lib/x86_64-linux-gnu/perl/5.22.1 /usr/local/share/perl/5.22.1 /usr/lib/x86_64-linux-gnu/perl5/5.22 /usr/share/perl5 /usr/lib/x86_64-linux-gnu/perl/5.22 /usr/share/perl/5.22 /usr/local/lib/site_perl /usr/lib/x86_64-linux-gnu/perl-base .) at /usr/share/perl5/Debconf/FrontEnd/Readline.pm line 7.)\n",
      "debconf: falling back to frontend: Teletype\n",
      "Setting up libgeoip1:amd64 (1.6.9-1) ...\n",
      "Setting up libicu55:amd64 (55.1-7ubuntu0.4) ...\n",
      "Setting up libxdmcp6:amd64 (1:1.1.2-1.1) ...\n",
      "Setting up libxcb1:amd64 (1.11.1-1ubuntu1) ...\n",
      "Setting up libx11-data (2:1.6.3-1ubuntu2) ...\n",
      "Setting up libx11-6:amd64 (2:1.6.3-1ubuntu2) ...\n",
      "Setting up libxml2:amd64 (2.9.3+dfsg1-1ubuntu0.5) ...\n",
      "Setting up wget (1.17.1-1ubuntu1.4) ...\n",
      "Setting up fonts-dejavu-core (2.35-1) ...\n",
      "Setting up fontconfig-config (2.11.94-0ubuntu1.1) ...\n",
      "Setting up libfreetype6:amd64 (2.6.1-0.1ubuntu2.3) ...\n",
      "Setting up libfontconfig1:amd64 (2.11.94-0ubuntu1.1) ...\n",
      "Setting up libjpeg8:amd64 (8c-2ubuntu8) ...\n",
      "Setting up libtiff5:amd64 (4.0.6-1ubuntu0.4) ...\n",
      "Setting up libvpx3:amd64 (1.5.0-2ubuntu1) ...\n",
      "Setting up libxpm4:amd64 (1:3.5.11-1ubuntu0.16.04.1) ...\n",
      "Setting up libgd3:amd64 (2.1.1-4ubuntu0.16.04.8) ...\n",
      "Setting up libxslt1.1:amd64 (1.1.28-2.1ubuntu0.1) ...\n",
      "Setting up nginx-common (1.10.3-0ubuntu0.16.04.2) ...\n",
      "debconf: unable to initialize frontend: Dialog\n",
      "debconf: (TERM is not set, so the dialog frontend is not usable.)\n",
      "debconf: falling back to frontend: Readline\n",
      "debconf: unable to initialize frontend: Readline\n",
      "debconf: (Can't locate Term/ReadLine.pm in @INC (you may need to install the Term::ReadLine module) (@INC contains: /etc/perl /usr/local/lib/x86_64-linux-gnu/perl/5.22.1 /usr/local/share/perl/5.22.1 /usr/lib/x86_64-linux-gnu/perl5/5.22 /usr/share/perl5 /usr/lib/x86_64-linux-gnu/perl/5.22 /usr/share/perl/5.22 /usr/local/lib/site_perl /usr/lib/x86_64-linux-gnu/perl-base .) at /usr/share/perl5/Debconf/FrontEnd/Readline.pm line 7.)\n",
      "debconf: falling back to frontend: Teletype\n",
      "Setting up nginx-core (1.10.3-0ubuntu0.16.04.2) ...\n",
      "invoke-rc.d: could not determine current runlevel\n",
      "invoke-rc.d: policy-rc.d denied execution of start.\n",
      "Setting up nginx (1.10.3-0ubuntu0.16.04.2) ...\n",
      "Processing triggers for libc-bin (2.23-0ubuntu10) ...\n",
      "Processing triggers for ca-certificates (20170717~16.04.1) ...\n",
      "Updating certificates in /etc/ssl/certs...\n",
      "148 added, 0 removed; done.\n",
      "Running hooks in /etc/ca-certificates/update.d...\n",
      "done.\n",
      "Processing triggers for systemd (229-4ubuntu21.2) ...\n",
      "Removing intermediate container fb958cbb3535\n",
      " ---> 89af8218b09f\n",
      "Step 5/12 : RUN wget https://bootstrap.pypa.io/get-pip.py && python get-pip.py &&     pip install numpy==1.14.5 scipy flask gevent gunicorn Pillow &&         (cd /usr/local/lib/python2.7/dist-packages/scipy/.libs; rm *; ln ../../numpy/.libs/* .) &&         rm -rf /root/.cache\n",
      " ---> Running in b36ad4b26f14\n",
      "\u001b[91m--2018-08-03 14:52:47--  https://bootstrap.pypa.io/get-pip.py\n",
      "\u001b[0m\u001b[91mResolving bootstrap.pypa.io (bootstrap.pypa.io)... \u001b[0m\u001b[91m151.101.0.175, 151.101.64.175, 151.101.128.175, ...\n",
      "Connecting to bootstrap.pypa.io (bootstrap.pypa.io)|151.101.0.175|:443... \u001b[0m\u001b[91mconnected.\n",
      "\u001b[0m\u001b[91mHTTP request sent, awaiting response... \u001b[0m\u001b[91m200 OK\n",
      "\u001b[0m\u001b[91mLength: 1642522 (1.6M) [text/x-python]\n",
      "\u001b[0m\u001b[91mSaving to: 'get-pip.py'\n",
      "\u001b[0m\u001b[91m\n",
      "     0K ..\u001b[0m\u001b[91m..\u001b[0m\u001b[91m......\u001b[0m\u001b[91m .....\u001b[0m\u001b[91m...\u001b[0m\u001b[91m.. ...\u001b[0m\u001b[91m...\u001b[0m\u001b[91m..\u001b[0m\u001b[91m.. .\u001b[0m\u001b[91m......... .......\u001b[0m\u001b[91m...  3%  880K 2s\n",
      "    50K .......... ...\u001b[0m\u001b[91m....... .........\u001b[0m\u001b[91m. .......... .....\u001b[0m\u001b[91m.....  6% 2.19M 1s\n",
      "   100K .......... .\u001b[0m\u001b[91m......... .......\u001b[0m\u001b[91m... .......... ...\u001b[0m\u001b[91m.......  9% 1.67M 1s\n",
      "   150K .........\u001b[0m\u001b[91m. .......... .....\u001b[0m\u001b[91m..... .......... .\u001b[0m\u001b[91m......... 12% 1.95M 1s\n",
      "   200K .......\u001b[0m\u001b[91m... ...\u001b[0m\u001b[91m....... .\u001b[0m\u001b[91m........\u001b[0m\u001b[91m. .......... .....\u001b[0m\u001b[91m..... 15% 1.63M 1s\n",
      "   250K ...\u001b[0m\u001b[91m....... .\u001b[0m\u001b[91m......... .......\u001b[0m\u001b[91m... .......... ...\u001b[0m\u001b[91m....... 18% 2.60M 1s\n",
      "   300K .\u001b[0m\u001b[91m........\u001b[0m\u001b[91m. .......... .....\u001b[0m\u001b[91m..... .......... .\u001b[0m\u001b[91m......... 21% 2.21M 1s\n",
      "   350K .......\u001b[0m\u001b[91m... .......... ...\u001b[0m\u001b[91m....... .........\u001b[0m\u001b[91m. .......... 24% 2.68M 1s\n",
      "   400K .....\u001b[0m\u001b[91m..... .......... .\u001b[0m\u001b[91m......... .......\u001b[0m\u001b[91m... .......... 28% 3.98M 1s\n",
      "   450K ...\u001b[0m\u001b[91m....... ...\u001b[0m\u001b[91m......\u001b[0m\u001b[91m. .......... .....\u001b[0m\u001b[91m..... .......... 31% 1.98M 1s\n",
      "   500K\u001b[0m\u001b[91m .\u001b[0m\u001b[91m......... .......\u001b[0m\u001b[91m... .......... ...\u001b[0m\u001b[91m....... .........\u001b[0m\u001b[91m. 34% 2.49M 1s\n",
      "   550K .......\u001b[0m\u001b[91m... .....\u001b[0m\u001b[91m..... .......... .\u001b[0m\u001b[91m......... .......\u001b[0m\u001b[91m... 37% 2.99M 0s\n",
      "   600K .......... ...\u001b[0m\u001b[91m....... .........\u001b[0m\u001b[91m. .......\u001b[0m\u001b[91m... .....\u001b[0m\u001b[91m..... 40% 1.70M 0s\n",
      "   650K .......... .\u001b[0m\u001b[91m......... .......\u001b[0m\u001b[91m... .......... ...\u001b[0m\u001b[91m....... 43% 3.34M 0s\n",
      "   700K .........\u001b[0m\u001b[91m. .......\u001b[0m\u001b[91m... .....\u001b[0m\u001b[91m..... ...\u001b[0m\u001b[91m....... .\u001b[0m\u001b[91m........\u001b[0m\u001b[91m. 46% 3.79M 0s\n",
      "   750K .......\u001b[0m\u001b[91m... .......... ...\u001b[0m\u001b[91m....... .........\u001b[0m\u001b[91m. .......... 49% 1.99M 0s\n",
      "   800K .....\u001b[0m\u001b[91m..... .......... .\u001b[0m\u001b[91m......... .......\u001b[0m\u001b[91m... .....\u001b[0m\u001b[91m..... 52% 2.58M 0s\n",
      "   850K ...\u001b[0m\u001b[91m....... .........\u001b[0m\u001b[91m. .......... .....\u001b[0m\u001b[91m..... ...\u001b[0m\u001b[91m....... 56% 2.97M\u001b[0m\u001b[91m 0s\n",
      "   900K .\u001b[0m\u001b[91m......... .......\u001b[0m\u001b[91m... .....\u001b[0m\u001b[91m..... ...\u001b[0m\u001b[91m....... .\u001b[0m\u001b[91m........\u001b[0m\u001b[91m. 59% 1.94M 0s\n",
      "   950K .......\u001b[0m\u001b[91m... .....\u001b[0m\u001b[91m..... .......... .\u001b[0m\u001b[91m........\u001b[0m\u001b[91m. .......\u001b[0m\u001b[91m... 62% 1.28M 0s\n",
      "  1000K .......... ...\u001b[0m\u001b[91m....... .........\u001b[0m\u001b[91m. .......... .....\u001b[0m\u001b[91m..... 65% 2.63M 0s\n",
      "  1050K .......... .\u001b[0m\u001b[91m......... .......\u001b[0m\u001b[91m... .......... ...\u001b[0m\u001b[91m....... 68% 1.39M 0s\n",
      "  1100K .........\u001b[0m\u001b[91m. .......... .....\u001b[0m\u001b[91m..... .......... .......... 71% 5.48M 0s\n",
      "  1150K .......\u001b[0m\u001b[91m... .....\u001b[0m\u001b[91m..... ...\u001b[0m\u001b[91m....... .........\u001b[0m\u001b[91m. .......... 74% 2.26M 0s\n",
      "  1200K .....\u001b[0m\u001b[91m..... ...\u001b[0m\u001b[91m....... .\u001b[0m\u001b[91m......... .......\u001b[0m\u001b[91m... .....\u001b[0m\u001b[91m..... 77% 2.26M 0s\n",
      "  1250K ...\u001b[0m\u001b[91m....... .\u001b[0m\u001b[91m........\u001b[0m\u001b[91m. .......\u001b[0m\u001b[91m... .....\u001b[0m\u001b[91m..... ...\u001b[0m\u001b[91m....... 81% 3.73M 0s\n",
      "  1300K .\u001b[0m\u001b[91m......... .......... .....\u001b[0m\u001b[91m..... ...\u001b[0m\u001b[91m....... .........\u001b[0m\u001b[91m. 84%\u001b[0m\u001b[91m 1.51M 0s\n",
      "  1350K .......... .....\u001b[0m\u001b[91m..... .......... .\u001b[0m\u001b[91m......... .......\u001b[0m\u001b[91m... 87% 2.58M 0s\n",
      "  1400K .......... ...\u001b[0m\u001b[91m....... .........\u001b[0m\u001b[91m. .......\u001b[0m\u001b[91m... .....\u001b[0m\u001b[91m..... 90% 1.31M 0s\n",
      "  1450K .......... .\u001b[0m\u001b[91m......... .......\u001b[0m\u001b[91m... .......... ...\u001b[0m\u001b[91m....... 93% 2.84M 0s\n",
      "  1500K .........\u001b[0m\u001b[91m. .......... .....\u001b[0m\u001b[91m..... .......... .\u001b[0m\u001b[91m........\u001b[0m\u001b[91m. 96% 1.71M 0s\n"
     ]
    },
    {
     "name": "stdout",
     "output_type": "stream",
     "text": [
      "  1550K .......\u001b[0m\u001b[91m... .......... ...\u001b[0m\u001b[91m....... .........\u001b[0m\u001b[91m. .......... 99% 2.95M 0s\n",
      "  1600K ....                        \u001b[0m\u001b[91m                          100% 7678G=0.7s\n",
      "\n",
      "\u001b[0m\u001b[91m2018-08-03 14:52:48 (2.10 MB/s) - 'get-pip.py' saved [1642522/1642522]\n",
      "\n",
      "\u001b[0mCollecting pip\n",
      "  Downloading https://files.pythonhosted.org/packages/5f/25/e52d3f31441505a5f3af41213346e5b6c221c9e086a166f3703d2ddaf940/pip-18.0-py2.py3-none-any.whl (1.3MB)\n",
      "Collecting setuptools\n",
      "  Downloading https://files.pythonhosted.org/packages/ff/f4/385715ccc461885f3cedf57a41ae3c12b5fec3f35cce4c8706b1a112a133/setuptools-40.0.0-py2.py3-none-any.whl (567kB)\n",
      "Collecting wheel\n",
      "  Downloading https://files.pythonhosted.org/packages/81/30/e935244ca6165187ae8be876b6316ae201b71485538ffac1d718843025a9/wheel-0.31.1-py2.py3-none-any.whl (41kB)\n",
      "Installing collected packages: pip, setuptools, wheel\n",
      "Successfully installed pip-18.0 setuptools-40.0.0 wheel-0.31.1\n",
      "Collecting numpy==1.14.5\n",
      "  Downloading https://files.pythonhosted.org/packages/6a/a9/c01a2d5f7b045f508c8cefef3b079fe8c413d05498ca0ae877cffa230564/numpy-1.14.5-cp27-cp27mu-manylinux1_x86_64.whl (12.1MB)\n",
      "Collecting scipy\n",
      "  Downloading https://files.pythonhosted.org/packages/2a/f3/de9c1bd16311982711209edaa8c6caa962db30ebb6a8cc6f1dcd2d3ef616/scipy-1.1.0-cp27-cp27mu-manylinux1_x86_64.whl (30.8MB)\n",
      "Collecting flask\n",
      "  Downloading https://files.pythonhosted.org/packages/7f/e7/08578774ed4536d3242b14dacb4696386634607af824ea997202cd0edb4b/Flask-1.0.2-py2.py3-none-any.whl (91kB)\n",
      "Collecting gevent\n",
      "  Downloading https://files.pythonhosted.org/packages/34/f7/0bdf6205d8ecbbfc1d2a4611a0b19e75ce00f622d0cb23852c4c15fb8ce5/gevent-1.3.5-cp27-cp27mu-manylinux1_x86_64.whl (4.2MB)\n",
      "Collecting gunicorn\n",
      "  Downloading https://files.pythonhosted.org/packages/8c/da/b8dd8deb741bff556db53902d4706774c8e1e67265f69528c14c003644e6/gunicorn-19.9.0-py2.py3-none-any.whl (112kB)\n",
      "Collecting Pillow\n",
      "  Downloading https://files.pythonhosted.org/packages/6e/27/709a8493071ec649a56d5a3194f648ec7cd792189e994bbd2ef5d285670d/Pillow-5.2.0-cp27-cp27mu-manylinux1_x86_64.whl (2.0MB)\n",
      "Collecting Jinja2>=2.10 (from flask)\n",
      "  Downloading https://files.pythonhosted.org/packages/7f/ff/ae64bacdfc95f27a016a7bed8e8686763ba4d277a78ca76f32659220a731/Jinja2-2.10-py2.py3-none-any.whl (126kB)\n",
      "Collecting itsdangerous>=0.24 (from flask)\n",
      "  Downloading https://files.pythonhosted.org/packages/dc/b4/a60bcdba945c00f6d608d8975131ab3f25b22f2bcfe1dab221165194b2d4/itsdangerous-0.24.tar.gz (46kB)\n",
      "Collecting Werkzeug>=0.14 (from flask)\n",
      "  Downloading https://files.pythonhosted.org/packages/20/c4/12e3e56473e52375aa29c4764e70d1b8f3efa6682bef8d0aae04fe335243/Werkzeug-0.14.1-py2.py3-none-any.whl (322kB)\n",
      "Collecting click>=5.1 (from flask)\n",
      "  Downloading https://files.pythonhosted.org/packages/34/c1/8806f99713ddb993c5366c362b2f908f18269f8d792aff1abfd700775a77/click-6.7-py2.py3-none-any.whl (71kB)\n",
      "Collecting greenlet>=0.4.13; platform_python_implementation == \"CPython\" (from gevent)\n",
      "  Downloading https://files.pythonhosted.org/packages/7e/4a/de7c8b50bf0e80ef1fbe8963413e0b6993425783391988d8d442f65dd0e0/greenlet-0.4.14-cp27-cp27mu-manylinux1_x86_64.whl\n",
      "Collecting MarkupSafe>=0.23 (from Jinja2>=2.10->flask)\n",
      "  Downloading https://files.pythonhosted.org/packages/4d/de/32d741db316d8fdb7680822dd37001ef7a448255de9699ab4bfcbdf4172b/MarkupSafe-1.0.tar.gz\n",
      "Building wheels for collected packages: itsdangerous, MarkupSafe\n",
      "  Running setup.py bdist_wheel for itsdangerous: started\n",
      "  Running setup.py bdist_wheel for itsdangerous: finished with status 'done'\n",
      "  Stored in directory: /root/.cache/pip/wheels/2c/4a/61/5599631c1554768c6290b08c02c72d7317910374ca602ff1e5\n",
      "  Running setup.py bdist_wheel for MarkupSafe: started\n",
      "  Running setup.py bdist_wheel for MarkupSafe: finished with status 'done'\n",
      "  Stored in directory: /root/.cache/pip/wheels/33/56/20/ebe49a5c612fffe1c5a632146b16596f9e64676768661e4e46\n",
      "Successfully built itsdangerous MarkupSafe\n",
      "Installing collected packages: numpy, scipy, MarkupSafe, Jinja2, itsdangerous, Werkzeug, click, flask, greenlet, gevent, gunicorn, Pillow\n",
      "Successfully installed Jinja2-2.10 MarkupSafe-1.0 Pillow-5.2.0 Werkzeug-0.14.1 click-6.7 flask-1.0.2 gevent-1.3.5 greenlet-0.4.14 gunicorn-19.9.0 itsdangerous-0.24 numpy-1.14.5 scipy-1.1.0\n",
      "Removing intermediate container b36ad4b26f14\n",
      " ---> e105c90a9847\n",
      "Step 6/12 : ENV PYTHONUNBUFFERED=TRUE\n",
      " ---> Running in 4addaef8b848\n",
      "Removing intermediate container 4addaef8b848\n",
      " ---> e41cf502637f\n",
      "Step 7/12 : ENV PYTHONDONTWRITEBYTECODE=TRUE\n",
      " ---> Running in a7a10d31278b\n",
      "Removing intermediate container a7a10d31278b\n",
      " ---> 3cd2e70f7121\n",
      "Step 8/12 : ENV PATH=\"/opt/program:${PATH}\"\n",
      " ---> Running in 81c1da961fc3\n",
      "Removing intermediate container 81c1da961fc3\n",
      " ---> 2dfd2174a2af\n",
      "Step 9/12 : RUN pip install tensorflow keras\n",
      " ---> Running in 076f8db408e7\n",
      "Collecting tensorflow\n",
      "  Downloading https://files.pythonhosted.org/packages/37/ff/97d4542f805ae25bf4b65b6263515584c78bd9a6111ed78ea971eff2946a/tensorflow-1.9.0-cp27-cp27mu-manylinux1_x86_64.whl (51.2MB)\n",
      "Collecting keras\n",
      "  Downloading https://files.pythonhosted.org/packages/34/7d/b1dedde8af99bd82f20ed7e9697aac0597de3049b1f786aa2aac3b9bd4da/Keras-2.2.2-py2.py3-none-any.whl (299kB)\n",
      "Collecting setuptools<=39.1.0 (from tensorflow)\n",
      "  Downloading https://files.pythonhosted.org/packages/8c/10/79282747f9169f21c053c562a0baa21815a8c7879be97abd930dbcf862e8/setuptools-39.1.0-py2.py3-none-any.whl (566kB)\n",
      "Collecting astor>=0.6.0 (from tensorflow)\n",
      "  Downloading https://files.pythonhosted.org/packages/35/6b/11530768cac581a12952a2aad00e1526b89d242d0b9f59534ef6e6a1752f/astor-0.7.1-py2.py3-none-any.whl\n",
      "Collecting protobuf>=3.4.0 (from tensorflow)\n",
      "  Downloading https://files.pythonhosted.org/packages/27/e7/bf96130ebe633b08a3913da4bb25e50dac5779f1f68e51c99485423f7443/protobuf-3.6.0-cp27-cp27mu-manylinux1_x86_64.whl (7.1MB)\n",
      "Collecting gast>=0.2.0 (from tensorflow)\n",
      "  Downloading https://files.pythonhosted.org/packages/5c/78/ff794fcae2ce8aa6323e789d1f8b3b7765f601e7702726f430e814822b96/gast-0.2.0.tar.gz\n",
      "Collecting enum34>=1.1.6 (from tensorflow)\n",
      "  Downloading https://files.pythonhosted.org/packages/c5/db/e56e6b4bbac7c4a06de1c50de6fe1ef3810018ae11732a50f15f62c7d050/enum34-1.1.6-py2-none-any.whl\n",
      "Collecting six>=1.10.0 (from tensorflow)\n",
      "  Downloading https://files.pythonhosted.org/packages/67/4b/141a581104b1f6397bfa78ac9d43d8ad29a7ca43ea90a2d863fe3056e86a/six-1.11.0-py2.py3-none-any.whl\n",
      "Requirement already satisfied: wheel in /usr/local/lib/python2.7/dist-packages (from tensorflow) (0.31.1)\n",
      "Collecting absl-py>=0.1.6 (from tensorflow)\n",
      "  Downloading https://files.pythonhosted.org/packages/96/5d/18feb90462c8edaae71305716c7e8bac479fc9dface63221f808a6b95880/absl-py-0.3.0.tar.gz (84kB)\n",
      "Collecting backports.weakref>=1.0rc1 (from tensorflow)\n",
      "  Downloading https://files.pythonhosted.org/packages/88/ec/f598b633c3d5ffe267aaada57d961c94fdfa183c5c3ebda2b6d151943db6/backports.weakref-1.0.post1-py2.py3-none-any.whl\n",
      "Collecting tensorboard<1.10.0,>=1.9.0 (from tensorflow)\n",
      "  Downloading https://files.pythonhosted.org/packages/d5/98/e2e9d5afbc86cef0b2dd0f4ab791519b9bd305ea207e1e5c2f9a9f2f6da6/tensorboard-1.9.0-py2-none-any.whl (3.3MB)\n",
      "Collecting termcolor>=1.1.0 (from tensorflow)\n",
      "  Downloading https://files.pythonhosted.org/packages/8a/48/a76be51647d0eb9f10e2a4511bf3ffb8cc1e6b14e9e4fab46173aa79f981/termcolor-1.1.0.tar.gz\n",
      "Requirement already satisfied: numpy>=1.13.3 in /usr/local/lib/python2.7/dist-packages (from tensorflow) (1.14.5)\n",
      "Collecting grpcio>=1.8.6 (from tensorflow)\n",
      "  Downloading https://files.pythonhosted.org/packages/ea/96/234eaae211b6b34739018735be33e1616bc3e73c62d842c5189b80a4bd72/grpcio-1.14.0-cp27-cp27mu-manylinux1_x86_64.whl (9.2MB)\n",
      "Collecting mock>=2.0.0 (from tensorflow)\n",
      "  Downloading https://files.pythonhosted.org/packages/e6/35/f187bdf23be87092bd0f1200d43d23076cee4d0dec109f195173fd3ebc79/mock-2.0.0-py2.py3-none-any.whl (56kB)\n",
      "Requirement already satisfied: scipy>=0.14 in /usr/local/lib/python2.7/dist-packages (from keras) (1.1.0)\n",
      "Collecting keras-preprocessing==1.0.2 (from keras)\n",
      "  Downloading https://files.pythonhosted.org/packages/71/26/1e778ebd737032749824d5cba7dbd3b0cf9234b87ab5ec79f5f0403ca7e9/Keras_Preprocessing-1.0.2-py2.py3-none-any.whl\n",
      "Collecting keras-applications==1.0.4 (from keras)\n"
     ]
    },
    {
     "name": "stdout",
     "output_type": "stream",
     "text": [
      "  Downloading https://files.pythonhosted.org/packages/54/90/8f327deaa37a71caddb59b7b4aaa9d4b3e90c0e76f8c2d1572005278ddc5/Keras_Applications-1.0.4-py2.py3-none-any.whl (43kB)\n",
      "Collecting pyyaml (from keras)\n",
      "  Downloading https://files.pythonhosted.org/packages/9e/a3/1d13970c3f36777c583f136c136f804d70f500168edc1edea6daa7200769/PyYAML-3.13.tar.gz (270kB)\n",
      "Collecting h5py (from keras)\n",
      "  Downloading https://files.pythonhosted.org/packages/33/0c/1c5dfa85e05052aa5f50969d87c67a2128dc39a6f8ce459a503717e56bd0/h5py-2.8.0-cp27-cp27mu-manylinux1_x86_64.whl (2.7MB)\n",
      "Requirement already satisfied: werkzeug>=0.11.10 in /usr/local/lib/python2.7/dist-packages (from tensorboard<1.10.0,>=1.9.0->tensorflow) (0.14.1)\n",
      "Collecting futures>=3.1.1; python_version < \"3\" (from tensorboard<1.10.0,>=1.9.0->tensorflow)\n",
      "  Downloading https://files.pythonhosted.org/packages/2d/99/b2c4e9d5a30f6471e410a146232b4118e697fa3ffc06d6a65efde84debd0/futures-3.2.0-py2-none-any.whl\n",
      "Collecting markdown>=2.6.8 (from tensorboard<1.10.0,>=1.9.0->tensorflow)\n",
      "  Downloading https://files.pythonhosted.org/packages/6d/7d/488b90f470b96531a3f5788cf12a93332f543dbab13c423a5e7ce96a0493/Markdown-2.6.11-py2.py3-none-any.whl (78kB)\n",
      "Collecting pbr>=0.11 (from mock>=2.0.0->tensorflow)\n",
      "  Downloading https://files.pythonhosted.org/packages/69/1c/98cba002ed975a91a0294863d9c774cc0ebe38e05bbb65e83314550b1677/pbr-4.2.0-py2.py3-none-any.whl (100kB)\n",
      "Collecting funcsigs>=1; python_version < \"3.3\" (from mock>=2.0.0->tensorflow)\n",
      "  Downloading https://files.pythonhosted.org/packages/69/cb/f5be453359271714c01b9bd06126eaf2e368f1fddfff30818754b5ac2328/funcsigs-1.0.2-py2.py3-none-any.whl\n",
      "Building wheels for collected packages: gast, absl-py, termcolor, pyyaml\n",
      "  Running setup.py bdist_wheel for gast: started\n",
      "  Running setup.py bdist_wheel for gast: finished with status 'done'\n",
      "  Stored in directory: /root/.cache/pip/wheels/9a/1f/0e/3cde98113222b853e98fc0a8e9924480a3e25f1b4008cedb4f\n",
      "  Running setup.py bdist_wheel for absl-py: started\n",
      "  Running setup.py bdist_wheel for absl-py: finished with status 'done'\n",
      "  Stored in directory: /root/.cache/pip/wheels/4c/16/ef/e36a23f2432e9220f8845f94e2c3abd39e7d9d1cd458d3159d\n",
      "  Running setup.py bdist_wheel for termcolor: started\n",
      "  Running setup.py bdist_wheel for termcolor: finished with status 'done'\n",
      "  Stored in directory: /root/.cache/pip/wheels/7c/06/54/bc84598ba1daf8f970247f550b175aaaee85f68b4b0c5ab2c6\n",
      "  Running setup.py bdist_wheel for pyyaml: started\n",
      "  Running setup.py bdist_wheel for pyyaml: finished with status 'done'\n",
      "  Stored in directory: /root/.cache/pip/wheels/ad/da/0c/74eb680767247273e2cf2723482cb9c924fe70af57c334513f\n",
      "Successfully built gast absl-py termcolor pyyaml\n",
      "Installing collected packages: setuptools, astor, six, protobuf, gast, enum34, absl-py, backports.weakref, futures, markdown, tensorboard, termcolor, grpcio, pbr, funcsigs, mock, tensorflow, keras-preprocessing, h5py, keras-applications, pyyaml, keras\n",
      "  Found existing installation: setuptools 40.0.0\n",
      "    Uninstalling setuptools-40.0.0:\n",
      "      Successfully uninstalled setuptools-40.0.0\n",
      "Successfully installed absl-py-0.3.0 astor-0.7.1 backports.weakref-1.0.post1 enum34-1.1.6 funcsigs-1.0.2 futures-3.2.0 gast-0.2.0 grpcio-1.14.0 h5py-2.8.0 keras-2.2.2 keras-applications-1.0.4 keras-preprocessing-1.0.2 markdown-2.6.11 mock-2.0.0 pbr-4.2.0 protobuf-3.6.0 pyyaml-3.13 setuptools-39.1.0 six-1.11.0 tensorboard-1.9.0 tensorflow-1.9.0 termcolor-1.1.0\n",
      "Removing intermediate container 076f8db408e7\n",
      " ---> 4341000c456e\n",
      "Step 10/12 : COPY app /opt/program\n",
      " ---> 7f49c61d900b\n",
      "Step 11/12 : WORKDIR /opt/program\n",
      "Removing intermediate container cf71c343f53e\n",
      " ---> 8ea86960777f\n",
      "Step 12/12 : COPY /model /opt/ml/model\n",
      " ---> 45e96b7c3cde\n",
      "Successfully built 45e96b7c3cde\n",
      "Successfully tagged imagnet:dev-1.0.0\n"
     ]
    }
   ],
   "source": [
    "!docker build . --tag {name}:{tag}"
   ]
  },
  {
   "cell_type": "markdown",
   "metadata": {},
   "source": [
    "## Local test"
   ]
  },
  {
   "cell_type": "markdown",
   "metadata": {},
   "source": [
    "Start a local webserver with the machine learning code and endpoints all set up"
   ]
  },
  {
   "cell_type": "code",
   "execution_count": 18,
   "metadata": {},
   "outputs": [
    {
     "data": {
      "text/plain": [
       "'dev-1.0.0'"
      ]
     },
     "execution_count": 18,
     "metadata": {},
     "output_type": "execute_result"
    }
   ],
   "source": [
    "tag"
   ]
  },
  {
   "cell_type": "code",
   "execution_count": 16,
   "metadata": {},
   "outputs": [
    {
     "name": "stdout",
     "output_type": "stream",
     "text": [
      "db8f04a3f1b185ec19aac4c245b08fd03eede0068e1ec418ca699b3fd2115fe1\r\n"
     ]
    }
   ],
   "source": [
    "!./run_local_server.sh {name}:{tag}"
   ]
  },
  {
   "cell_type": "code",
   "execution_count": 22,
   "metadata": {},
   "outputs": [
    {
     "name": "stdout",
     "output_type": "stream",
     "text": [
      "38c77cf2e0111c3e50785b60bb258f27db196d32c992a186408d130e28602446\r\n"
     ]
    }
   ],
   "source": [
    "!docker run --name mylocalservice -d -p 8080:8080 --rm {name}:{tag} serve"
   ]
  },
  {
   "cell_type": "markdown",
   "metadata": {},
   "source": [
    "The /ping endpoint checks if the connection is up"
   ]
  },
  {
   "cell_type": "markdown",
   "metadata": {},
   "source": [
    "# write python files to do this"
   ]
  },
  {
   "cell_type": "code",
   "execution_count": 21,
   "metadata": {},
   "outputs": [
    {
     "ename": "ConnectionError",
     "evalue": "HTTPConnectionPool(host='localhost', port=8080): Max retries exceeded with url: /ping (Caused by NewConnectionError('<urllib3.connection.HTTPConnection object at 0x7fca640a37f0>: Failed to establish a new connection: [Errno 111] Connection refused',))",
     "output_type": "error",
     "traceback": [
      "\u001b[0;31m---------------------------------------------------------------------------\u001b[0m",
      "\u001b[0;31mConnectionRefusedError\u001b[0m                    Traceback (most recent call last)",
      "\u001b[0;32m~/.virtualenvs/ai/lib/python3.6/site-packages/urllib3/connection.py\u001b[0m in \u001b[0;36m_new_conn\u001b[0;34m(self)\u001b[0m\n\u001b[1;32m    170\u001b[0m             conn = connection.create_connection(\n\u001b[0;32m--> 171\u001b[0;31m                 (self._dns_host, self.port), self.timeout, **extra_kw)\n\u001b[0m\u001b[1;32m    172\u001b[0m \u001b[0;34m\u001b[0m\u001b[0m\n",
      "\u001b[0;32m~/.virtualenvs/ai/lib/python3.6/site-packages/urllib3/util/connection.py\u001b[0m in \u001b[0;36mcreate_connection\u001b[0;34m(address, timeout, source_address, socket_options)\u001b[0m\n\u001b[1;32m     78\u001b[0m     \u001b[0;32mif\u001b[0m \u001b[0merr\u001b[0m \u001b[0;32mis\u001b[0m \u001b[0;32mnot\u001b[0m \u001b[0;32mNone\u001b[0m\u001b[0;34m:\u001b[0m\u001b[0;34m\u001b[0m\u001b[0m\n\u001b[0;32m---> 79\u001b[0;31m         \u001b[0;32mraise\u001b[0m \u001b[0merr\u001b[0m\u001b[0;34m\u001b[0m\u001b[0m\n\u001b[0m\u001b[1;32m     80\u001b[0m \u001b[0;34m\u001b[0m\u001b[0m\n",
      "\u001b[0;32m~/.virtualenvs/ai/lib/python3.6/site-packages/urllib3/util/connection.py\u001b[0m in \u001b[0;36mcreate_connection\u001b[0;34m(address, timeout, source_address, socket_options)\u001b[0m\n\u001b[1;32m     68\u001b[0m                 \u001b[0msock\u001b[0m\u001b[0;34m.\u001b[0m\u001b[0mbind\u001b[0m\u001b[0;34m(\u001b[0m\u001b[0msource_address\u001b[0m\u001b[0;34m)\u001b[0m\u001b[0;34m\u001b[0m\u001b[0m\n\u001b[0;32m---> 69\u001b[0;31m             \u001b[0msock\u001b[0m\u001b[0;34m.\u001b[0m\u001b[0mconnect\u001b[0m\u001b[0;34m(\u001b[0m\u001b[0msa\u001b[0m\u001b[0;34m)\u001b[0m\u001b[0;34m\u001b[0m\u001b[0m\n\u001b[0m\u001b[1;32m     70\u001b[0m             \u001b[0;32mreturn\u001b[0m \u001b[0msock\u001b[0m\u001b[0;34m\u001b[0m\u001b[0m\n",
      "\u001b[0;31mConnectionRefusedError\u001b[0m: [Errno 111] Connection refused",
      "\nDuring handling of the above exception, another exception occurred:\n",
      "\u001b[0;31mNewConnectionError\u001b[0m                        Traceback (most recent call last)",
      "\u001b[0;32m~/.virtualenvs/ai/lib/python3.6/site-packages/urllib3/connectionpool.py\u001b[0m in \u001b[0;36murlopen\u001b[0;34m(self, method, url, body, headers, retries, redirect, assert_same_host, timeout, pool_timeout, release_conn, chunked, body_pos, **response_kw)\u001b[0m\n\u001b[1;32m    599\u001b[0m                                                   \u001b[0mbody\u001b[0m\u001b[0;34m=\u001b[0m\u001b[0mbody\u001b[0m\u001b[0;34m,\u001b[0m \u001b[0mheaders\u001b[0m\u001b[0;34m=\u001b[0m\u001b[0mheaders\u001b[0m\u001b[0;34m,\u001b[0m\u001b[0;34m\u001b[0m\u001b[0m\n\u001b[0;32m--> 600\u001b[0;31m                                                   chunked=chunked)\n\u001b[0m\u001b[1;32m    601\u001b[0m \u001b[0;34m\u001b[0m\u001b[0m\n",
      "\u001b[0;32m~/.virtualenvs/ai/lib/python3.6/site-packages/urllib3/connectionpool.py\u001b[0m in \u001b[0;36m_make_request\u001b[0;34m(self, conn, method, url, timeout, chunked, **httplib_request_kw)\u001b[0m\n\u001b[1;32m    353\u001b[0m         \u001b[0;32melse\u001b[0m\u001b[0;34m:\u001b[0m\u001b[0;34m\u001b[0m\u001b[0m\n\u001b[0;32m--> 354\u001b[0;31m             \u001b[0mconn\u001b[0m\u001b[0;34m.\u001b[0m\u001b[0mrequest\u001b[0m\u001b[0;34m(\u001b[0m\u001b[0mmethod\u001b[0m\u001b[0;34m,\u001b[0m \u001b[0murl\u001b[0m\u001b[0;34m,\u001b[0m \u001b[0;34m**\u001b[0m\u001b[0mhttplib_request_kw\u001b[0m\u001b[0;34m)\u001b[0m\u001b[0;34m\u001b[0m\u001b[0m\n\u001b[0m\u001b[1;32m    355\u001b[0m \u001b[0;34m\u001b[0m\u001b[0m\n",
      "\u001b[0;32m/usr/lib/python3.6/http/client.py\u001b[0m in \u001b[0;36mrequest\u001b[0;34m(self, method, url, body, headers, encode_chunked)\u001b[0m\n\u001b[1;32m   1238\u001b[0m         \u001b[0;34m\"\"\"Send a complete request to the server.\"\"\"\u001b[0m\u001b[0;34m\u001b[0m\u001b[0m\n\u001b[0;32m-> 1239\u001b[0;31m         \u001b[0mself\u001b[0m\u001b[0;34m.\u001b[0m\u001b[0m_send_request\u001b[0m\u001b[0;34m(\u001b[0m\u001b[0mmethod\u001b[0m\u001b[0;34m,\u001b[0m \u001b[0murl\u001b[0m\u001b[0;34m,\u001b[0m \u001b[0mbody\u001b[0m\u001b[0;34m,\u001b[0m \u001b[0mheaders\u001b[0m\u001b[0;34m,\u001b[0m \u001b[0mencode_chunked\u001b[0m\u001b[0;34m)\u001b[0m\u001b[0;34m\u001b[0m\u001b[0m\n\u001b[0m\u001b[1;32m   1240\u001b[0m \u001b[0;34m\u001b[0m\u001b[0m\n",
      "\u001b[0;32m/usr/lib/python3.6/http/client.py\u001b[0m in \u001b[0;36m_send_request\u001b[0;34m(self, method, url, body, headers, encode_chunked)\u001b[0m\n\u001b[1;32m   1284\u001b[0m             \u001b[0mbody\u001b[0m \u001b[0;34m=\u001b[0m \u001b[0m_encode\u001b[0m\u001b[0;34m(\u001b[0m\u001b[0mbody\u001b[0m\u001b[0;34m,\u001b[0m \u001b[0;34m'body'\u001b[0m\u001b[0;34m)\u001b[0m\u001b[0;34m\u001b[0m\u001b[0m\n\u001b[0;32m-> 1285\u001b[0;31m         \u001b[0mself\u001b[0m\u001b[0;34m.\u001b[0m\u001b[0mendheaders\u001b[0m\u001b[0;34m(\u001b[0m\u001b[0mbody\u001b[0m\u001b[0;34m,\u001b[0m \u001b[0mencode_chunked\u001b[0m\u001b[0;34m=\u001b[0m\u001b[0mencode_chunked\u001b[0m\u001b[0;34m)\u001b[0m\u001b[0;34m\u001b[0m\u001b[0m\n\u001b[0m\u001b[1;32m   1286\u001b[0m \u001b[0;34m\u001b[0m\u001b[0m\n",
      "\u001b[0;32m/usr/lib/python3.6/http/client.py\u001b[0m in \u001b[0;36mendheaders\u001b[0;34m(self, message_body, encode_chunked)\u001b[0m\n\u001b[1;32m   1233\u001b[0m             \u001b[0;32mraise\u001b[0m \u001b[0mCannotSendHeader\u001b[0m\u001b[0;34m(\u001b[0m\u001b[0;34m)\u001b[0m\u001b[0;34m\u001b[0m\u001b[0m\n\u001b[0;32m-> 1234\u001b[0;31m         \u001b[0mself\u001b[0m\u001b[0;34m.\u001b[0m\u001b[0m_send_output\u001b[0m\u001b[0;34m(\u001b[0m\u001b[0mmessage_body\u001b[0m\u001b[0;34m,\u001b[0m \u001b[0mencode_chunked\u001b[0m\u001b[0;34m=\u001b[0m\u001b[0mencode_chunked\u001b[0m\u001b[0;34m)\u001b[0m\u001b[0;34m\u001b[0m\u001b[0m\n\u001b[0m\u001b[1;32m   1235\u001b[0m \u001b[0;34m\u001b[0m\u001b[0m\n",
      "\u001b[0;32m/usr/lib/python3.6/http/client.py\u001b[0m in \u001b[0;36m_send_output\u001b[0;34m(self, message_body, encode_chunked)\u001b[0m\n\u001b[1;32m   1025\u001b[0m         \u001b[0;32mdel\u001b[0m \u001b[0mself\u001b[0m\u001b[0;34m.\u001b[0m\u001b[0m_buffer\u001b[0m\u001b[0;34m[\u001b[0m\u001b[0;34m:\u001b[0m\u001b[0;34m]\u001b[0m\u001b[0;34m\u001b[0m\u001b[0m\n\u001b[0;32m-> 1026\u001b[0;31m         \u001b[0mself\u001b[0m\u001b[0;34m.\u001b[0m\u001b[0msend\u001b[0m\u001b[0;34m(\u001b[0m\u001b[0mmsg\u001b[0m\u001b[0;34m)\u001b[0m\u001b[0;34m\u001b[0m\u001b[0m\n\u001b[0m\u001b[1;32m   1027\u001b[0m \u001b[0;34m\u001b[0m\u001b[0m\n",
      "\u001b[0;32m/usr/lib/python3.6/http/client.py\u001b[0m in \u001b[0;36msend\u001b[0;34m(self, data)\u001b[0m\n\u001b[1;32m    963\u001b[0m             \u001b[0;32mif\u001b[0m \u001b[0mself\u001b[0m\u001b[0;34m.\u001b[0m\u001b[0mauto_open\u001b[0m\u001b[0;34m:\u001b[0m\u001b[0;34m\u001b[0m\u001b[0m\n\u001b[0;32m--> 964\u001b[0;31m                 \u001b[0mself\u001b[0m\u001b[0;34m.\u001b[0m\u001b[0mconnect\u001b[0m\u001b[0;34m(\u001b[0m\u001b[0;34m)\u001b[0m\u001b[0;34m\u001b[0m\u001b[0m\n\u001b[0m\u001b[1;32m    965\u001b[0m             \u001b[0;32melse\u001b[0m\u001b[0;34m:\u001b[0m\u001b[0;34m\u001b[0m\u001b[0m\n",
      "\u001b[0;32m~/.virtualenvs/ai/lib/python3.6/site-packages/urllib3/connection.py\u001b[0m in \u001b[0;36mconnect\u001b[0;34m(self)\u001b[0m\n\u001b[1;32m    195\u001b[0m     \u001b[0;32mdef\u001b[0m \u001b[0mconnect\u001b[0m\u001b[0;34m(\u001b[0m\u001b[0mself\u001b[0m\u001b[0;34m)\u001b[0m\u001b[0;34m:\u001b[0m\u001b[0;34m\u001b[0m\u001b[0m\n\u001b[0;32m--> 196\u001b[0;31m         \u001b[0mconn\u001b[0m \u001b[0;34m=\u001b[0m \u001b[0mself\u001b[0m\u001b[0;34m.\u001b[0m\u001b[0m_new_conn\u001b[0m\u001b[0;34m(\u001b[0m\u001b[0;34m)\u001b[0m\u001b[0;34m\u001b[0m\u001b[0m\n\u001b[0m\u001b[1;32m    197\u001b[0m         \u001b[0mself\u001b[0m\u001b[0;34m.\u001b[0m\u001b[0m_prepare_conn\u001b[0m\u001b[0;34m(\u001b[0m\u001b[0mconn\u001b[0m\u001b[0;34m)\u001b[0m\u001b[0;34m\u001b[0m\u001b[0m\n",
      "\u001b[0;32m~/.virtualenvs/ai/lib/python3.6/site-packages/urllib3/connection.py\u001b[0m in \u001b[0;36m_new_conn\u001b[0;34m(self)\u001b[0m\n\u001b[1;32m    179\u001b[0m             raise NewConnectionError(\n\u001b[0;32m--> 180\u001b[0;31m                 self, \"Failed to establish a new connection: %s\" % e)\n\u001b[0m\u001b[1;32m    181\u001b[0m \u001b[0;34m\u001b[0m\u001b[0m\n",
      "\u001b[0;31mNewConnectionError\u001b[0m: <urllib3.connection.HTTPConnection object at 0x7fca640a37f0>: Failed to establish a new connection: [Errno 111] Connection refused",
      "\nDuring handling of the above exception, another exception occurred:\n",
      "\u001b[0;31mMaxRetryError\u001b[0m                             Traceback (most recent call last)",
      "\u001b[0;32m~/.virtualenvs/ai/lib/python3.6/site-packages/requests/adapters.py\u001b[0m in \u001b[0;36msend\u001b[0;34m(self, request, stream, timeout, verify, cert, proxies)\u001b[0m\n\u001b[1;32m    444\u001b[0m                     \u001b[0mretries\u001b[0m\u001b[0;34m=\u001b[0m\u001b[0mself\u001b[0m\u001b[0;34m.\u001b[0m\u001b[0mmax_retries\u001b[0m\u001b[0;34m,\u001b[0m\u001b[0;34m\u001b[0m\u001b[0m\n\u001b[0;32m--> 445\u001b[0;31m                     \u001b[0mtimeout\u001b[0m\u001b[0;34m=\u001b[0m\u001b[0mtimeout\u001b[0m\u001b[0;34m\u001b[0m\u001b[0m\n\u001b[0m\u001b[1;32m    446\u001b[0m                 )\n",
      "\u001b[0;32m~/.virtualenvs/ai/lib/python3.6/site-packages/urllib3/connectionpool.py\u001b[0m in \u001b[0;36murlopen\u001b[0;34m(self, method, url, body, headers, retries, redirect, assert_same_host, timeout, pool_timeout, release_conn, chunked, body_pos, **response_kw)\u001b[0m\n\u001b[1;32m    637\u001b[0m             retries = retries.increment(method, url, error=e, _pool=self,\n\u001b[0;32m--> 638\u001b[0;31m                                         _stacktrace=sys.exc_info()[2])\n\u001b[0m\u001b[1;32m    639\u001b[0m             \u001b[0mretries\u001b[0m\u001b[0;34m.\u001b[0m\u001b[0msleep\u001b[0m\u001b[0;34m(\u001b[0m\u001b[0;34m)\u001b[0m\u001b[0;34m\u001b[0m\u001b[0m\n",
      "\u001b[0;32m~/.virtualenvs/ai/lib/python3.6/site-packages/urllib3/util/retry.py\u001b[0m in \u001b[0;36mincrement\u001b[0;34m(self, method, url, response, error, _pool, _stacktrace)\u001b[0m\n\u001b[1;32m    397\u001b[0m         \u001b[0;32mif\u001b[0m \u001b[0mnew_retry\u001b[0m\u001b[0;34m.\u001b[0m\u001b[0mis_exhausted\u001b[0m\u001b[0;34m(\u001b[0m\u001b[0;34m)\u001b[0m\u001b[0;34m:\u001b[0m\u001b[0;34m\u001b[0m\u001b[0m\n\u001b[0;32m--> 398\u001b[0;31m             \u001b[0;32mraise\u001b[0m \u001b[0mMaxRetryError\u001b[0m\u001b[0;34m(\u001b[0m\u001b[0m_pool\u001b[0m\u001b[0;34m,\u001b[0m \u001b[0murl\u001b[0m\u001b[0;34m,\u001b[0m \u001b[0merror\u001b[0m \u001b[0;32mor\u001b[0m \u001b[0mResponseError\u001b[0m\u001b[0;34m(\u001b[0m\u001b[0mcause\u001b[0m\u001b[0;34m)\u001b[0m\u001b[0;34m)\u001b[0m\u001b[0;34m\u001b[0m\u001b[0m\n\u001b[0m\u001b[1;32m    399\u001b[0m \u001b[0;34m\u001b[0m\u001b[0m\n",
      "\u001b[0;31mMaxRetryError\u001b[0m: HTTPConnectionPool(host='localhost', port=8080): Max retries exceeded with url: /ping (Caused by NewConnectionError('<urllib3.connection.HTTPConnection object at 0x7fca640a37f0>: Failed to establish a new connection: [Errno 111] Connection refused',))",
      "\nDuring handling of the above exception, another exception occurred:\n",
      "\u001b[0;31mConnectionError\u001b[0m                           Traceback (most recent call last)",
      "\u001b[0;32m<ipython-input-21-74873716517b>\u001b[0m in \u001b[0;36m<module>\u001b[0;34m()\u001b[0m\n\u001b[0;32m----> 1\u001b[0;31m \u001b[0mlocal\u001b[0m\u001b[0;34m.\u001b[0m\u001b[0mget\u001b[0m\u001b[0;34m(\u001b[0m\u001b[0;34m'http://localhost:8080/ping'\u001b[0m\u001b[0;34m)\u001b[0m\u001b[0;34m\u001b[0m\u001b[0m\n\u001b[0m",
      "\u001b[0;32m~/github/amazon-sagemaker-byom/container/utils/local.py\u001b[0m in \u001b[0;36mget\u001b[0;34m(url)\u001b[0m\n\u001b[1;32m     11\u001b[0m \u001b[0;32mdef\u001b[0m \u001b[0mget\u001b[0m\u001b[0;34m(\u001b[0m\u001b[0murl\u001b[0m\u001b[0;34m)\u001b[0m\u001b[0;34m:\u001b[0m\u001b[0;34m\u001b[0m\u001b[0m\n\u001b[1;32m     12\u001b[0m \u001b[0;34m\u001b[0m\u001b[0m\n\u001b[0;32m---> 13\u001b[0;31m     \u001b[0mresponse\u001b[0m \u001b[0;34m=\u001b[0m \u001b[0mrequests\u001b[0m\u001b[0;34m.\u001b[0m\u001b[0mget\u001b[0m\u001b[0;34m(\u001b[0m\u001b[0murl\u001b[0m\u001b[0;34m)\u001b[0m\u001b[0;34m\u001b[0m\u001b[0m\n\u001b[0m\u001b[1;32m     14\u001b[0m \u001b[0;34m\u001b[0m\u001b[0m\n\u001b[1;32m     15\u001b[0m     \u001b[0;32mif\u001b[0m \u001b[0mresponse\u001b[0m\u001b[0;34m.\u001b[0m\u001b[0mstatus_code\u001b[0m \u001b[0;34m==\u001b[0m \u001b[0;36m200\u001b[0m\u001b[0;34m:\u001b[0m\u001b[0;34m\u001b[0m\u001b[0m\n",
      "\u001b[0;32m~/.virtualenvs/ai/lib/python3.6/site-packages/requests/api.py\u001b[0m in \u001b[0;36mget\u001b[0;34m(url, params, **kwargs)\u001b[0m\n\u001b[1;32m     70\u001b[0m \u001b[0;34m\u001b[0m\u001b[0m\n\u001b[1;32m     71\u001b[0m     \u001b[0mkwargs\u001b[0m\u001b[0;34m.\u001b[0m\u001b[0msetdefault\u001b[0m\u001b[0;34m(\u001b[0m\u001b[0;34m'allow_redirects'\u001b[0m\u001b[0;34m,\u001b[0m \u001b[0;32mTrue\u001b[0m\u001b[0;34m)\u001b[0m\u001b[0;34m\u001b[0m\u001b[0m\n\u001b[0;32m---> 72\u001b[0;31m     \u001b[0;32mreturn\u001b[0m \u001b[0mrequest\u001b[0m\u001b[0;34m(\u001b[0m\u001b[0;34m'get'\u001b[0m\u001b[0;34m,\u001b[0m \u001b[0murl\u001b[0m\u001b[0;34m,\u001b[0m \u001b[0mparams\u001b[0m\u001b[0;34m=\u001b[0m\u001b[0mparams\u001b[0m\u001b[0;34m,\u001b[0m \u001b[0;34m**\u001b[0m\u001b[0mkwargs\u001b[0m\u001b[0;34m)\u001b[0m\u001b[0;34m\u001b[0m\u001b[0m\n\u001b[0m\u001b[1;32m     73\u001b[0m \u001b[0;34m\u001b[0m\u001b[0m\n\u001b[1;32m     74\u001b[0m \u001b[0;34m\u001b[0m\u001b[0m\n",
      "\u001b[0;32m~/.virtualenvs/ai/lib/python3.6/site-packages/requests/api.py\u001b[0m in \u001b[0;36mrequest\u001b[0;34m(method, url, **kwargs)\u001b[0m\n\u001b[1;32m     56\u001b[0m     \u001b[0;31m# cases, and look like a memory leak in others.\u001b[0m\u001b[0;34m\u001b[0m\u001b[0;34m\u001b[0m\u001b[0m\n\u001b[1;32m     57\u001b[0m     \u001b[0;32mwith\u001b[0m \u001b[0msessions\u001b[0m\u001b[0;34m.\u001b[0m\u001b[0mSession\u001b[0m\u001b[0;34m(\u001b[0m\u001b[0;34m)\u001b[0m \u001b[0;32mas\u001b[0m \u001b[0msession\u001b[0m\u001b[0;34m:\u001b[0m\u001b[0;34m\u001b[0m\u001b[0m\n\u001b[0;32m---> 58\u001b[0;31m         \u001b[0;32mreturn\u001b[0m \u001b[0msession\u001b[0m\u001b[0;34m.\u001b[0m\u001b[0mrequest\u001b[0m\u001b[0;34m(\u001b[0m\u001b[0mmethod\u001b[0m\u001b[0;34m=\u001b[0m\u001b[0mmethod\u001b[0m\u001b[0;34m,\u001b[0m \u001b[0murl\u001b[0m\u001b[0;34m=\u001b[0m\u001b[0murl\u001b[0m\u001b[0;34m,\u001b[0m \u001b[0;34m**\u001b[0m\u001b[0mkwargs\u001b[0m\u001b[0;34m)\u001b[0m\u001b[0;34m\u001b[0m\u001b[0m\n\u001b[0m\u001b[1;32m     59\u001b[0m \u001b[0;34m\u001b[0m\u001b[0m\n\u001b[1;32m     60\u001b[0m \u001b[0;34m\u001b[0m\u001b[0m\n",
      "\u001b[0;32m~/.virtualenvs/ai/lib/python3.6/site-packages/requests/sessions.py\u001b[0m in \u001b[0;36mrequest\u001b[0;34m(self, method, url, params, data, headers, cookies, files, auth, timeout, allow_redirects, proxies, hooks, stream, verify, cert, json)\u001b[0m\n\u001b[1;32m    510\u001b[0m         }\n\u001b[1;32m    511\u001b[0m         \u001b[0msend_kwargs\u001b[0m\u001b[0;34m.\u001b[0m\u001b[0mupdate\u001b[0m\u001b[0;34m(\u001b[0m\u001b[0msettings\u001b[0m\u001b[0;34m)\u001b[0m\u001b[0;34m\u001b[0m\u001b[0m\n\u001b[0;32m--> 512\u001b[0;31m         \u001b[0mresp\u001b[0m \u001b[0;34m=\u001b[0m \u001b[0mself\u001b[0m\u001b[0;34m.\u001b[0m\u001b[0msend\u001b[0m\u001b[0;34m(\u001b[0m\u001b[0mprep\u001b[0m\u001b[0;34m,\u001b[0m \u001b[0;34m**\u001b[0m\u001b[0msend_kwargs\u001b[0m\u001b[0;34m)\u001b[0m\u001b[0;34m\u001b[0m\u001b[0m\n\u001b[0m\u001b[1;32m    513\u001b[0m \u001b[0;34m\u001b[0m\u001b[0m\n\u001b[1;32m    514\u001b[0m         \u001b[0;32mreturn\u001b[0m \u001b[0mresp\u001b[0m\u001b[0;34m\u001b[0m\u001b[0m\n",
      "\u001b[0;32m~/.virtualenvs/ai/lib/python3.6/site-packages/requests/sessions.py\u001b[0m in \u001b[0;36msend\u001b[0;34m(self, request, **kwargs)\u001b[0m\n\u001b[1;32m    620\u001b[0m \u001b[0;34m\u001b[0m\u001b[0m\n\u001b[1;32m    621\u001b[0m         \u001b[0;31m# Send the request\u001b[0m\u001b[0;34m\u001b[0m\u001b[0;34m\u001b[0m\u001b[0m\n\u001b[0;32m--> 622\u001b[0;31m         \u001b[0mr\u001b[0m \u001b[0;34m=\u001b[0m \u001b[0madapter\u001b[0m\u001b[0;34m.\u001b[0m\u001b[0msend\u001b[0m\u001b[0;34m(\u001b[0m\u001b[0mrequest\u001b[0m\u001b[0;34m,\u001b[0m \u001b[0;34m**\u001b[0m\u001b[0mkwargs\u001b[0m\u001b[0;34m)\u001b[0m\u001b[0;34m\u001b[0m\u001b[0m\n\u001b[0m\u001b[1;32m    623\u001b[0m \u001b[0;34m\u001b[0m\u001b[0m\n\u001b[1;32m    624\u001b[0m         \u001b[0;31m# Total elapsed time of the request (approximately)\u001b[0m\u001b[0;34m\u001b[0m\u001b[0;34m\u001b[0m\u001b[0m\n",
      "\u001b[0;32m~/.virtualenvs/ai/lib/python3.6/site-packages/requests/adapters.py\u001b[0m in \u001b[0;36msend\u001b[0;34m(self, request, stream, timeout, verify, cert, proxies)\u001b[0m\n\u001b[1;32m    511\u001b[0m                 \u001b[0;32mraise\u001b[0m \u001b[0mSSLError\u001b[0m\u001b[0;34m(\u001b[0m\u001b[0me\u001b[0m\u001b[0;34m,\u001b[0m \u001b[0mrequest\u001b[0m\u001b[0;34m=\u001b[0m\u001b[0mrequest\u001b[0m\u001b[0;34m)\u001b[0m\u001b[0;34m\u001b[0m\u001b[0m\n\u001b[1;32m    512\u001b[0m \u001b[0;34m\u001b[0m\u001b[0m\n\u001b[0;32m--> 513\u001b[0;31m             \u001b[0;32mraise\u001b[0m \u001b[0mConnectionError\u001b[0m\u001b[0;34m(\u001b[0m\u001b[0me\u001b[0m\u001b[0;34m,\u001b[0m \u001b[0mrequest\u001b[0m\u001b[0;34m=\u001b[0m\u001b[0mrequest\u001b[0m\u001b[0;34m)\u001b[0m\u001b[0;34m\u001b[0m\u001b[0m\n\u001b[0m\u001b[1;32m    514\u001b[0m \u001b[0;34m\u001b[0m\u001b[0m\n\u001b[1;32m    515\u001b[0m         \u001b[0;32mexcept\u001b[0m \u001b[0mClosedPoolError\u001b[0m \u001b[0;32mas\u001b[0m \u001b[0me\u001b[0m\u001b[0;34m:\u001b[0m\u001b[0;34m\u001b[0m\u001b[0m\n",
      "\u001b[0;31mConnectionError\u001b[0m: HTTPConnectionPool(host='localhost', port=8080): Max retries exceeded with url: /ping (Caused by NewConnectionError('<urllib3.connection.HTTPConnection object at 0x7fca640a37f0>: Failed to establish a new connection: [Errno 111] Connection refused',))"
     ]
    }
   ],
   "source": [
    "local.get('http://localhost:8080/ping')"
   ]
  },
  {
   "cell_type": "markdown",
   "metadata": {},
   "source": [
    "Let's take a look at one of our images."
   ]
  },
  {
   "cell_type": "code",
   "execution_count": 13,
   "metadata": {},
   "outputs": [],
   "source": [
    "dog = '../images/dog.jpg'\n",
    "# Image(dog) "
   ]
  },
  {
   "cell_type": "markdown",
   "metadata": {},
   "source": [
    "and see if ResNet can determine what it is.."
   ]
  },
  {
   "cell_type": "code",
   "execution_count": 14,
   "metadata": {},
   "outputs": [
    {
     "data": {
      "text/plain": [
       "requests.exceptions.ConnectionError(urllib3.exceptions.MaxRetryError(\"HTTPConnectionPool(host='localhost', port=8080): Max retries exceeded with url: /invocations (Caused by NewConnectionError('<urllib3.connection.HTTPConnection object at 0x7fca64097978>: Failed to establish a new connection: [Errno 111] Connection refused',))\"))"
      ]
     },
     "execution_count": 14,
     "metadata": {},
     "output_type": "execute_result"
    }
   ],
   "source": [
    "local.post(dog, route='invocations')"
   ]
  },
  {
   "cell_type": "markdown",
   "metadata": {},
   "source": [
    "ok, but can we can identify if something is a hotdog?"
   ]
  },
  {
   "cell_type": "code",
   "execution_count": null,
   "metadata": {},
   "outputs": [],
   "source": [
    "hotdog = '../images/hotdog.jpg'\n",
    "# Image(hotdog) "
   ]
  },
  {
   "cell_type": "code",
   "execution_count": null,
   "metadata": {},
   "outputs": [],
   "source": [
    "local.post(hotdog, route='invocations')"
   ]
  },
  {
   "cell_type": "markdown",
   "metadata": {},
   "source": [
    "Yes, it turns out we can, assuming all went well up to this point."
   ]
  },
  {
   "cell_type": "markdown",
   "metadata": {},
   "source": [
    "When you are done with local testing, kill the container running in the background."
   ]
  },
  {
   "cell_type": "code",
   "execution_count": 15,
   "metadata": {},
   "outputs": [
    {
     "name": "stdout",
     "output_type": "stream",
     "text": [
      "Error response from daemon: Cannot kill container: mylocalservice: No such container: mylocalservice\r\n"
     ]
    }
   ],
   "source": [
    "!docker kill mylocalservice"
   ]
  },
  {
   "cell_type": "markdown",
   "metadata": {},
   "source": [
    "## Register the container\n",
    "\n",
    "The aim here is to send a docker image to Amazon's Elastic Container Registery (ECR). It seems that Amazon are using 'image' and 'container' interchangeably. \n",
    "\n",
    "I am obliged to say they are not the same thing; i.e. a container is an instance of an image. \n",
    "\n",
    "*Aside: However, I understand why Amazon might do this. The official Docker terminology here is not ideal. Although the term 'image' has been used for a [long time](https://en.wikipedia.org/wiki/Disk_image) in computing to describe content storage, for most people the word conjures up thoughts of something like a photo, which is confusing. In my humble opinion **Docker** should haved used the term 'container' instead of image and used 'instance' instead of container.*"
   ]
  },
  {
   "cell_type": "markdown",
   "metadata": {},
   "source": [
    "**Ship the image to Amazon ECR**\n",
    "\n",
    "Let's use the [AWS command line tool](https://docs.aws.amazon.com/cli/latest/userguide/installing.html) to send the docker image to the cloud."
   ]
  },
  {
   "cell_type": "code",
   "execution_count": null,
   "metadata": {},
   "outputs": [],
   "source": [
    "# To install and configure AWS run these commands in a separate terminal.\n",
    "# $ pip install awscli\n",
    "# $ aws configure"
   ]
  },
  {
   "cell_type": "code",
   "execution_count": null,
   "metadata": {},
   "outputs": [],
   "source": [
    "!./send_to_Amazon.sh {name}"
   ]
  },
  {
   "cell_type": "markdown",
   "metadata": {},
   "source": [
    "If you would like to see it in the Amazon Console look for the 'Elastic Container Service' (ECS)."
   ]
  },
  {
   "cell_type": "markdown",
   "metadata": {},
   "source": [
    "## Host on SageMaker"
   ]
  },
  {
   "cell_type": "markdown",
   "metadata": {},
   "source": [
    "The plan here is to host the machine learning algorithm on SageMaker using the docker image that we sent to ECR previously."
   ]
  },
  {
   "cell_type": "markdown",
   "metadata": {},
   "source": [
    "**IAM** \n",
    "\n",
    "SageMaker will need permission to run a hosting service. As this is really important but not necessarily obvious I will describe how I created my role. I started at the url produced by the code in the next cell."
   ]
  },
  {
   "cell_type": "code",
   "execution_count": null,
   "metadata": {},
   "outputs": [],
   "source": [
    "region = !aws configure get region\n",
    "create_role_url = f'https://console.aws.amazon.com/iam/home?region={region[0]}#/roles$new?step=type'\n",
    "print(create_role_url)"
   ]
  },
  {
   "cell_type": "markdown",
   "metadata": {},
   "source": [
    "Then I selected 'SageMaker' and clicked the 'Next: Permissions' button. This showed me I had selected a 'AmazonSageMakerFullAccess' policy, I then clicked the 'Next: Review' button. This shows me a page asking for the Role name, I named it \"AmazonSageMaker-ExecutionRole\" and then clicked 'Create role'."
   ]
  },
  {
   "cell_type": "markdown",
   "metadata": {},
   "source": [
    "The IAM role this method produced looks like this"
   ]
  },
  {
   "cell_type": "code",
   "execution_count": null,
   "metadata": {},
   "outputs": [],
   "source": [
    "account = !aws sts get-caller-identity --query Account --output text\n",
    "role = f'arn:aws:iam::{account[0]}:role/AmazonSageMaker-ExecutionRole'\n",
    "print(role)"
   ]
  },
  {
   "cell_type": "markdown",
   "metadata": {},
   "source": [
    "**Container** \n",
    "\n",
    "The naming conventioin for docker images in Amazon's [Elastic Container Registry](https://aws.amazon.com/ecr/) combine your account number and a geographic region with the local container name like this:"
   ]
  },
  {
   "cell_type": "code",
   "execution_count": null,
   "metadata": {},
   "outputs": [],
   "source": [
    "ecr_name = f'{account[0]}.dkr.ecr.{region[0]}.amazonaws.com/{name}:latest'\n",
    "print(ecr_name)"
   ]
  },
  {
   "cell_type": "markdown",
   "metadata": {},
   "source": [
    "**SageMaker SDK**\n",
    "\n",
    "To communicate with SageMaker from Python let's use the official client."
   ]
  },
  {
   "cell_type": "code",
   "execution_count": null,
   "metadata": {},
   "outputs": [],
   "source": [
    "import boto3\n",
    "sm = boto3.client('sagemaker')"
   ]
  },
  {
   "cell_type": "markdown",
   "metadata": {},
   "source": [
    "When we invoke client functions we get a response back from Amazon."
   ]
  },
  {
   "cell_type": "code",
   "execution_count": null,
   "metadata": {},
   "outputs": [],
   "source": [
    "# create a SageMaker model..\n",
    "create_model_response = sm.create_model(\n",
    "    ModelName=name,\n",
    "    ExecutionRoleArn=role,\n",
    "    PrimaryContainer={\n",
    "        'Image': ecr_name\n",
    "    })\n",
    "\n",
    "# check that worked\n",
    "print(create_model_response['ModelArn'])"
   ]
  },
  {
   "cell_type": "markdown",
   "metadata": {},
   "source": [
    "We define the compute resources that are available to an algorithm by 'configuring the endpoint'. For example, we can define which [instance type](https://aws.amazon.com/sagemaker/pricing/instance-types/) we want."
   ]
  },
  {
   "cell_type": "code",
   "execution_count": null,
   "metadata": {},
   "outputs": [],
   "source": [
    "# instance type (some examples)\n",
    "cpu_instance = 'ml.m4.xlarge' # $0.311 per hour\n",
    "gpu_instance = 'ml.p2.xlarge' # $1.361 per hour\n",
    "\n",
    "# configuration name\n",
    "config_name = 'byom-config-cpu'\n",
    "\n",
    "# create configuration\n",
    "create_endpoint_config_response = sm.create_endpoint_config(\n",
    "    EndpointConfigName=config_name,\n",
    "    ProductionVariants=[{\n",
    "        'InstanceType': cpu_instance,\n",
    "        'InitialInstanceCount': 1,\n",
    "        'ModelName': name,\n",
    "        'VariantName': 'AllTraffic'}])\n",
    "\n",
    "print(create_endpoint_config_response['EndpointConfigArn'])"
   ]
  },
  {
   "cell_type": "markdown",
   "metadata": {},
   "source": [
    "We can now create the endpoint(s)"
   ]
  },
  {
   "cell_type": "code",
   "execution_count": null,
   "metadata": {},
   "outputs": [],
   "source": [
    "# endpoint name\n",
    "endpoint_name = name+'-endpoint'\n",
    "\n",
    "# create endpoint\n",
    "create_endpoint_response = sm.create_endpoint(\n",
    "    EndpointName=endpoint_name,\n",
    "    EndpointConfigName=config_name)\n",
    "\n",
    "print(create_endpoint_response['EndpointArn'])"
   ]
  },
  {
   "cell_type": "markdown",
   "metadata": {},
   "source": [
    "They take a while to deploy, let's check the status"
   ]
  },
  {
   "cell_type": "code",
   "execution_count": null,
   "metadata": {},
   "outputs": [],
   "source": [
    "resp = sm.describe_endpoint(EndpointName=endpoint_name)\n",
    "status = resp['EndpointStatus']\n",
    "print(\"Status: \" + status)"
   ]
  },
  {
   "cell_type": "markdown",
   "metadata": {},
   "source": [
    "and keep checking until it is done"
   ]
  },
  {
   "cell_type": "code",
   "execution_count": null,
   "metadata": {},
   "outputs": [],
   "source": [
    "sm.get_waiter('endpoint_in_service').wait(EndpointName=endpoint_name)\n",
    "\n",
    "resp = sm.describe_endpoint(EndpointName=endpoint_name)\n",
    "status = resp['EndpointStatus']\n",
    "print(\"Arn: \" + resp['EndpointArn'])\n",
    "print(\"Status: \" + status)\n",
    "\n",
    "if status != 'InService':\n",
    "    raise Exception('Endpoint creation did not succeed')"
   ]
  },
  {
   "cell_type": "markdown",
   "metadata": {},
   "source": [
    "## Test the endpoint\n"
   ]
  },
  {
   "cell_type": "markdown",
   "metadata": {},
   "source": [
    "To invoke the endpoint from Python we use the Amazon [SageMaker Runtime](https://docs.aws.amazon.com/sagemaker/latest/dg/API_Operations_Amazon_SageMaker_Runtime.html)."
   ]
  },
  {
   "cell_type": "code",
   "execution_count": null,
   "metadata": {},
   "outputs": [],
   "source": [
    "runtime = boto3.Session().client('runtime.sagemaker')"
   ]
  },
  {
   "cell_type": "code",
   "execution_count": null,
   "metadata": {},
   "outputs": [],
   "source": [
    "with open('../images/dog.jpg', 'rb') as file:\n",
    "    image = file.read()"
   ]
  },
  {
   "cell_type": "code",
   "execution_count": null,
   "metadata": {},
   "outputs": [],
   "source": [
    "image?"
   ]
  },
  {
   "cell_type": "code",
   "execution_count": null,
   "metadata": {},
   "outputs": [],
   "source": [
    "import matplotlib.image as mpimg\n",
    "\n",
    "img = mpimg.imread('../images/dog.jpg', 'rb')\n",
    "print(type(img))"
   ]
  },
  {
   "cell_type": "code",
   "execution_count": null,
   "metadata": {},
   "outputs": [],
   "source": [
    "# import json\n",
    "# payload = json.dumps({\"image\": img})"
   ]
  },
  {
   "cell_type": "markdown",
   "metadata": {},
   "source": [
    "[so thread](https://stackoverflow.com/questions/26646362/numpy-array-is-not-json-serializable)\n"
   ]
  },
  {
   "cell_type": "code",
   "execution_count": null,
   "metadata": {},
   "outputs": [],
   "source": [
    "import json \n",
    "import numpy as np\n",
    "\n",
    "class NumpyEncoder(json.JSONEncoder):\n",
    "    def default(self, obj):\n",
    "        if isinstance(obj, np.ndarray):\n",
    "            return obj.tolist()\n",
    "        return json.JSONEncoder.default(self, obj)"
   ]
  },
  {
   "cell_type": "code",
   "execution_count": null,
   "metadata": {},
   "outputs": [],
   "source": [
    "\n",
    "\n",
    "a = np.array([1, 2, 3])\n",
    "\n",
    "print(json.dumps({'aa': [2, (2, 3, 4), a], 'bb': [2]}, cls=NumpyEncoder))\n"
   ]
  },
  {
   "cell_type": "code",
   "execution_count": null,
   "metadata": {},
   "outputs": [],
   "source": [
    "# response = runtime.invoke_endpoint(\n",
    "#     EndpointName=endpoint_name,\n",
    "#     ContentType='image/jpeg',\n",
    "#     Body=payload\n",
    "# )\n",
    "\n",
    "# result = json.loads(response['Body'].read().decode())\n",
    "\n",
    "# print(result)"
   ]
  },
  {
   "cell_type": "markdown",
   "metadata": {},
   "source": [
    "## The End"
   ]
  },
  {
   "cell_type": "code",
   "execution_count": null,
   "metadata": {},
   "outputs": [],
   "source": [
    "sm.delete_endpoint(EndpointName=endpoint_name)"
   ]
  },
  {
   "cell_type": "code",
   "execution_count": null,
   "metadata": {},
   "outputs": [],
   "source": [
    "import requests"
   ]
  },
  {
   "cell_type": "code",
   "execution_count": null,
   "metadata": {},
   "outputs": [],
   "source": [
    "r = requests.get('http://127.0.0.1:5000/')\n",
    "r.text"
   ]
  },
  {
   "cell_type": "code",
   "execution_count": null,
   "metadata": {},
   "outputs": [],
   "source": [
    "r = requests.get('http://127.0.0.1:5000/invocations')\n",
    "r.text"
   ]
  },
  {
   "cell_type": "code",
   "execution_count": null,
   "metadata": {},
   "outputs": [],
   "source": [
    "r.headers"
   ]
  },
  {
   "cell_type": "code",
   "execution_count": null,
   "metadata": {},
   "outputs": [],
   "source": [
    "import json\n",
    "url = 'http://127.0.0.1:5000/invocations'\n",
    "payload = {'image': img.tolist()}\n",
    "headers = {'content-type': 'application/json'}\n",
    " \n",
    "r = requests.post(url, data=json.dumps(payload), headers=headers)\n",
    "print(r.status_code)\n",
    "print(r.text)"
   ]
  },
  {
   "cell_type": "code",
   "execution_count": null,
   "metadata": {},
   "outputs": [],
   "source": []
  }
 ],
 "metadata": {
  "kernelspec": {
   "display_name": "Python 3",
   "language": "python",
   "name": "python3"
  },
  "language_info": {
   "codemirror_mode": {
    "name": "ipython",
    "version": 3
   },
   "file_extension": ".py",
   "mimetype": "text/x-python",
   "name": "python",
   "nbconvert_exporter": "python",
   "pygments_lexer": "ipython3",
   "version": "3.6.5"
  }
 },
 "nbformat": 4,
 "nbformat_minor": 2
}
