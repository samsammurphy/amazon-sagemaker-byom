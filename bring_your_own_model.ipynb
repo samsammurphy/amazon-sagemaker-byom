{
 "cells": [
  {
   "cell_type": "markdown",
   "metadata": {},
   "source": [
    "# AWS Sagemaker: Bring Your Own Model\n"
   ]
  },
  {
   "cell_type": "markdown",
   "metadata": {},
   "source": [
    "This notebook follows this [medium post](https://medium.com/p/92778dabb32f) on how to bring your own model into AWS SageMaker.\n",
    "\n",
    "It outlines how you can package any machine learning algorithm into a docker container and then ship it to the cloud.\n",
    "\n",
    "This example uses the [Keras](https://keras.io/) but you could use any library you like."
   ]
  },
  {
   "cell_type": "markdown",
   "metadata": {},
   "source": [
    "## A trained model"
   ]
  },
  {
   "cell_type": "markdown",
   "metadata": {},
   "source": [
    "Let's get a trained model. Here is an example which uses [ResNet50](https://arxiv.org/abs/1512.03385) trained on ImageNet. It is one of the Keras [available models](https://keras.io/applications/#available-models)"
   ]
  },
  {
   "cell_type": "code",
   "execution_count": 4,
   "metadata": {},
   "outputs": [
    {
     "name": "stdout",
     "output_type": "stream",
     "text": [
      "Using TensorFlow backend.\n",
      "2018-07-27 11:40:23.954194: I tensorflow/core/platform/cpu_feature_guard.cc:141] Your CPU supports instructions that this TensorFlow binary was not compiled to use: AVX2 FMA\n"
     ]
    }
   ],
   "source": [
    "!python get_model.py"
   ]
  },
  {
   "cell_type": "markdown",
   "metadata": {},
   "source": [
    "This will download *model.json* and *weights.hdf5*. These files represent the model architecture and trained weights, respectively. When you are ready you can replace them with your own trained model. Here is where they go."
   ]
  },
  {
   "cell_type": "code",
   "execution_count": 5,
   "metadata": {},
   "outputs": [
    {
     "name": "stdout",
     "output_type": "stream",
     "text": [
      "model.json  weights.hdf5\r\n"
     ]
    }
   ],
   "source": [
    "!ls ./container/model"
   ]
  },
  {
   "cell_type": "markdown",
   "metadata": {},
   "source": [
    "## Build Docker image"
   ]
  },
  {
   "cell_type": "markdown",
   "metadata": {},
   "source": [
    "You will need [Docker](https://www.docker.com/) to run this notebook. \n",
    "\n",
    "**Docker Installation**\n",
    "\n",
    "To install Docker, you can use the Docker Toolbox for [Windows](https://docs.docker.com/toolbox/toolbox_install_windows/) and [Mac](https://docs.docker.com/toolbox/toolbox_install_mac/). For linux just run this command"
   ]
  },
  {
   "cell_type": "code",
   "execution_count": 8,
   "metadata": {},
   "outputs": [],
   "source": [
    "# uncomment for linux installation (if required)\n",
    "# !wget -qO- https://get.docker.com/ | sh"
   ]
  },
  {
   "cell_type": "markdown",
   "metadata": {},
   "source": [
    "**Docker Build**\n",
    "\n",
    "Read the Dockerfile and build a docker image"
   ]
  },
  {
   "cell_type": "code",
   "execution_count": 9,
   "metadata": {},
   "outputs": [
    {
     "name": "stdout",
     "output_type": "stream",
     "text": [
      "Sending build context to Docker daemon 103.1 MB\n",
      "Step 1/12 : FROM ubuntu:16.04\n",
      " ---> e13f3d529b1a\n",
      "Step 2/12 : MAINTAINER Sam Murphy <samsammurphy@gmail.com>\n",
      " ---> Running in 6fd653a13966\n",
      " ---> d10b50a28ade\n",
      "Removing intermediate container 6fd653a13966\n",
      "Step 3/12 : EXPOSE 8080\n",
      " ---> Running in 3ecdc890d075\n",
      " ---> 167804be6ff0\n",
      "Removing intermediate container 3ecdc890d075\n",
      "Step 4/12 : RUN apt-get -y update && apt-get install -y --no-install-recommends          wget          python          nginx          ca-certificates     && rm -rf /var/lib/apt/lists/*\n",
      " ---> Running in 93aebb87a6b2\n",
      "Get:1 http://security.ubuntu.com/ubuntu xenial-security InRelease [107 kB]\n",
      "Get:2 http://archive.ubuntu.com/ubuntu xenial InRelease [247 kB]\n",
      "Get:3 http://archive.ubuntu.com/ubuntu xenial-updates InRelease [109 kB]\n",
      "Get:4 http://archive.ubuntu.com/ubuntu xenial-backports InRelease [107 kB]\n",
      "Get:5 http://security.ubuntu.com/ubuntu xenial-security/universe Sources [84.7 kB]\n",
      "Get:6 http://security.ubuntu.com/ubuntu xenial-security/main amd64 Packages [675 kB]\n",
      "Get:7 http://archive.ubuntu.com/ubuntu xenial/universe Sources [9802 kB]\n",
      "Get:8 http://security.ubuntu.com/ubuntu xenial-security/restricted amd64 Packages [12.7 kB]\n",
      "Get:9 http://security.ubuntu.com/ubuntu xenial-security/universe amd64 Packages [457 kB]\n",
      "Get:10 http://security.ubuntu.com/ubuntu xenial-security/multiverse amd64 Packages [3746 B]\n",
      "Get:11 http://archive.ubuntu.com/ubuntu xenial/main amd64 Packages [1558 kB]\n",
      "Get:12 http://archive.ubuntu.com/ubuntu xenial/restricted amd64 Packages [14.1 kB]\n",
      "Get:13 http://archive.ubuntu.com/ubuntu xenial/universe amd64 Packages [9827 kB]\n",
      "Get:14 http://archive.ubuntu.com/ubuntu xenial/multiverse amd64 Packages [176 kB]\n",
      "Get:15 http://archive.ubuntu.com/ubuntu xenial-updates/universe Sources [272 kB]\n",
      "Get:16 http://archive.ubuntu.com/ubuntu xenial-updates/main amd64 Packages [1058 kB]\n",
      "Get:17 http://archive.ubuntu.com/ubuntu xenial-updates/restricted amd64 Packages [13.1 kB]\n",
      "Get:18 http://archive.ubuntu.com/ubuntu xenial-updates/universe amd64 Packages [869 kB]\n",
      "Get:19 http://archive.ubuntu.com/ubuntu xenial-updates/multiverse amd64 Packages [18.8 kB]\n",
      "Get:20 http://archive.ubuntu.com/ubuntu xenial-backports/main amd64 Packages [7321 B]\n",
      "Get:21 http://archive.ubuntu.com/ubuntu xenial-backports/universe amd64 Packages [8086 B]\n",
      "Fetched 25.4 MB in 5s (4665 kB/s)\n",
      "Reading package lists...\n",
      "Reading package lists...\n",
      "Building dependency tree...\n",
      "Reading state information...\n",
      "The following additional packages will be installed:\n",
      "  fontconfig-config fonts-dejavu-core libexpat1 libffi6 libfontconfig1\n",
      "  libfreetype6 libgd3 libgeoip1 libicu55 libidn11 libjbig0 libjpeg-turbo8\n",
      "  libjpeg8 libpng12-0 libpython-stdlib libpython2.7-minimal\n",
      "  libpython2.7-stdlib libsqlite3-0 libssl1.0.0 libtiff5 libvpx3 libx11-6\n",
      "  libx11-data libxau6 libxcb1 libxdmcp6 libxml2 libxpm4 libxslt1.1\n",
      "  mime-support nginx-common nginx-core openssl python-minimal python2.7\n",
      "  python2.7-minimal ucf\n",
      "Suggested packages:\n",
      "  libgd-tools geoip-bin fcgiwrap nginx-doc ssl-cert python-doc python-tk\n",
      "  python2.7-doc binutils binfmt-support\n",
      "Recommended packages:\n",
      "  geoip-database xml-core file\n",
      "The following NEW packages will be installed:\n",
      "  ca-certificates fontconfig-config fonts-dejavu-core libexpat1 libffi6\n",
      "  libfontconfig1 libfreetype6 libgd3 libgeoip1 libicu55 libidn11 libjbig0\n",
      "  libjpeg-turbo8 libjpeg8 libpng12-0 libpython-stdlib libpython2.7-minimal\n",
      "  libpython2.7-stdlib libsqlite3-0 libssl1.0.0 libtiff5 libvpx3 libx11-6\n",
      "  libx11-data libxau6 libxcb1 libxdmcp6 libxml2 libxpm4 libxslt1.1\n",
      "  mime-support nginx nginx-common nginx-core openssl python python-minimal\n",
      "  python2.7 python2.7-minimal ucf wget\n",
      "0 upgraded, 41 newly installed, 0 to remove and 9 not upgraded.\n",
      "Need to get 19.1 MB of archives.\n",
      "After this operation, 71.7 MB of additional disk space will be used.\n",
      "Get:1 http://archive.ubuntu.com/ubuntu xenial/main amd64 libxau6 amd64 1:1.0.8-1 [8376 B]\n",
      "Get:2 http://archive.ubuntu.com/ubuntu xenial-updates/main amd64 libjpeg-turbo8 amd64 1.4.2-0ubuntu3.1 [111 kB]\n",
      "Get:3 http://archive.ubuntu.com/ubuntu xenial-updates/main amd64 libpython2.7-minimal amd64 2.7.12-1ubuntu0~16.04.3 [340 kB]\n",
      "Get:4 http://archive.ubuntu.com/ubuntu xenial-updates/main amd64 python2.7-minimal amd64 2.7.12-1ubuntu0~16.04.3 [1261 kB]\n",
      "Get:5 http://archive.ubuntu.com/ubuntu xenial-updates/main amd64 python-minimal amd64 2.7.12-1~16.04 [28.1 kB]\n",
      "Get:6 http://archive.ubuntu.com/ubuntu xenial/main amd64 mime-support all 3.59ubuntu1 [31.0 kB]\n",
      "Get:7 http://archive.ubuntu.com/ubuntu xenial-updates/main amd64 libexpat1 amd64 2.1.0-7ubuntu0.16.04.3 [71.2 kB]\n",
      "Get:8 http://archive.ubuntu.com/ubuntu xenial/main amd64 libffi6 amd64 3.2.1-4 [17.8 kB]\n",
      "Get:9 http://archive.ubuntu.com/ubuntu xenial/main amd64 libsqlite3-0 amd64 3.11.0-1ubuntu1 [396 kB]\n",
      "Get:10 http://archive.ubuntu.com/ubuntu xenial-updates/main amd64 libssl1.0.0 amd64 1.0.2g-1ubuntu4.13 [1083 kB]\n",
      "Get:11 http://archive.ubuntu.com/ubuntu xenial-updates/main amd64 libpython2.7-stdlib amd64 2.7.12-1ubuntu0~16.04.3 [1880 kB]\n",
      "Get:12 http://archive.ubuntu.com/ubuntu xenial-updates/main amd64 python2.7 amd64 2.7.12-1ubuntu0~16.04.3 [224 kB]\n",
      "Get:13 http://archive.ubuntu.com/ubuntu xenial-updates/main amd64 libpython-stdlib amd64 2.7.12-1~16.04 [7768 B]\n",
      "Get:14 http://archive.ubuntu.com/ubuntu xenial-updates/main amd64 python amd64 2.7.12-1~16.04 [137 kB]\n",
      "Get:15 http://archive.ubuntu.com/ubuntu xenial/main amd64 libjbig0 amd64 2.1-3.1 [26.6 kB]\n",
      "Get:16 http://archive.ubuntu.com/ubuntu xenial-updates/main amd64 libidn11 amd64 1.32-3ubuntu1.2 [46.5 kB]\n",
      "Get:17 http://archive.ubuntu.com/ubuntu xenial-updates/main amd64 libpng12-0 amd64 1.2.54-1ubuntu1.1 [116 kB]\n",
      "Get:18 http://archive.ubuntu.com/ubuntu xenial/main amd64 ucf all 3.0036 [52.9 kB]\n",
      "Get:19 http://archive.ubuntu.com/ubuntu xenial-updates/main amd64 openssl amd64 1.0.2g-1ubuntu4.13 [492 kB]\n",
      "Get:20 http://archive.ubuntu.com/ubuntu xenial-updates/main amd64 ca-certificates all 20170717~16.04.1 [168 kB]\n",
      "Get:21 http://archive.ubuntu.com/ubuntu xenial/main amd64 libgeoip1 amd64 1.6.9-1 [70.1 kB]\n",
      "Get:22 http://archive.ubuntu.com/ubuntu xenial-updates/main amd64 libicu55 amd64 55.1-7ubuntu0.4 [7646 kB]\n",
      "Get:23 http://archive.ubuntu.com/ubuntu xenial/main amd64 libxdmcp6 amd64 1:1.1.2-1.1 [11.0 kB]\n",
      "Get:24 http://archive.ubuntu.com/ubuntu xenial/main amd64 libxcb1 amd64 1.11.1-1ubuntu1 [40.0 kB]\n",
      "Get:25 http://archive.ubuntu.com/ubuntu xenial/main amd64 libx11-data all 2:1.6.3-1ubuntu2 [113 kB]\n",
      "Get:26 http://archive.ubuntu.com/ubuntu xenial/main amd64 libx11-6 amd64 2:1.6.3-1ubuntu2 [571 kB]\n",
      "Get:27 http://archive.ubuntu.com/ubuntu xenial-updates/main amd64 libxml2 amd64 2.9.3+dfsg1-1ubuntu0.5 [697 kB]\n",
      "Get:28 http://archive.ubuntu.com/ubuntu xenial-updates/main amd64 wget amd64 1.17.1-1ubuntu1.4 [299 kB]\n",
      "Get:29 http://archive.ubuntu.com/ubuntu xenial/main amd64 fonts-dejavu-core all 2.35-1 [1039 kB]\n",
      "Get:30 http://archive.ubuntu.com/ubuntu xenial-updates/main amd64 fontconfig-config all 2.11.94-0ubuntu1.1 [49.9 kB]\n",
      "Get:31 http://archive.ubuntu.com/ubuntu xenial-updates/main amd64 libfreetype6 amd64 2.6.1-0.1ubuntu2.3 [316 kB]\n",
      "Get:32 http://archive.ubuntu.com/ubuntu xenial-updates/main amd64 libfontconfig1 amd64 2.11.94-0ubuntu1.1 [131 kB]\n",
      "Get:33 http://archive.ubuntu.com/ubuntu xenial/main amd64 libjpeg8 amd64 8c-2ubuntu8 [2194 B]\n",
      "Get:34 http://archive.ubuntu.com/ubuntu xenial-updates/main amd64 libtiff5 amd64 4.0.6-1ubuntu0.4 [148 kB]\n",
      "Get:35 http://archive.ubuntu.com/ubuntu xenial/main amd64 libvpx3 amd64 1.5.0-2ubuntu1 [732 kB]\n",
      "Get:36 http://archive.ubuntu.com/ubuntu xenial-updates/main amd64 libxpm4 amd64 1:3.5.11-1ubuntu0.16.04.1 [33.8 kB]\n",
      "Get:37 http://archive.ubuntu.com/ubuntu xenial-updates/main amd64 libgd3 amd64 2.1.1-4ubuntu0.16.04.8 [126 kB]\n",
      "Get:38 http://archive.ubuntu.com/ubuntu xenial-updates/main amd64 libxslt1.1 amd64 1.1.28-2.1ubuntu0.1 [145 kB]\n",
      "Get:39 http://archive.ubuntu.com/ubuntu xenial-updates/main amd64 nginx-common all 1.10.3-0ubuntu0.16.04.2 [26.6 kB]\n",
      "Get:40 http://archive.ubuntu.com/ubuntu xenial-updates/main amd64 nginx-core amd64 1.10.3-0ubuntu0.16.04.2 [428 kB]\n",
      "Get:41 http://archive.ubuntu.com/ubuntu xenial-updates/main amd64 nginx all 1.10.3-0ubuntu0.16.04.2 [3490 B]\n"
     ]
    },
    {
     "name": "stdout",
     "output_type": "stream",
     "text": [
      "\u001b[91mdebconf: delaying package configuration, since apt-utils is not installed\n",
      "\u001b[0mFetched 19.1 MB in 2s (6522 kB/s)\n",
      "Selecting previously unselected package libxau6:amd64.\n",
      "(Reading database ... 4768 files and directories currently installed.)\n",
      "Preparing to unpack .../libxau6_1%3a1.0.8-1_amd64.deb ...\n",
      "Unpacking libxau6:amd64 (1:1.0.8-1) ...\n",
      "Selecting previously unselected package libjpeg-turbo8:amd64.\n",
      "Preparing to unpack .../libjpeg-turbo8_1.4.2-0ubuntu3.1_amd64.deb ...\n",
      "Unpacking libjpeg-turbo8:amd64 (1.4.2-0ubuntu3.1) ...\n",
      "Selecting previously unselected package libpython2.7-minimal:amd64.\n",
      "Preparing to unpack .../libpython2.7-minimal_2.7.12-1ubuntu0~16.04.3_amd64.deb ...\n",
      "Unpacking libpython2.7-minimal:amd64 (2.7.12-1ubuntu0~16.04.3) ...\n",
      "Selecting previously unselected package python2.7-minimal.\n",
      "Preparing to unpack .../python2.7-minimal_2.7.12-1ubuntu0~16.04.3_amd64.deb ...\n",
      "Unpacking python2.7-minimal (2.7.12-1ubuntu0~16.04.3) ...\n",
      "Selecting previously unselected package python-minimal.\n",
      "Preparing to unpack .../python-minimal_2.7.12-1~16.04_amd64.deb ...\n",
      "Unpacking python-minimal (2.7.12-1~16.04) ...\n",
      "Selecting previously unselected package mime-support.\n",
      "Preparing to unpack .../mime-support_3.59ubuntu1_all.deb ...\n",
      "Unpacking mime-support (3.59ubuntu1) ...\n",
      "Selecting previously unselected package libexpat1:amd64.\n",
      "Preparing to unpack .../libexpat1_2.1.0-7ubuntu0.16.04.3_amd64.deb ...\n",
      "Unpacking libexpat1:amd64 (2.1.0-7ubuntu0.16.04.3) ...\n",
      "Selecting previously unselected package libffi6:amd64.\n",
      "Preparing to unpack .../libffi6_3.2.1-4_amd64.deb ...\n",
      "Unpacking libffi6:amd64 (3.2.1-4) ...\n",
      "Selecting previously unselected package libsqlite3-0:amd64.\n",
      "Preparing to unpack .../libsqlite3-0_3.11.0-1ubuntu1_amd64.deb ...\n",
      "Unpacking libsqlite3-0:amd64 (3.11.0-1ubuntu1) ...\n",
      "Selecting previously unselected package libssl1.0.0:amd64.\n",
      "Preparing to unpack .../libssl1.0.0_1.0.2g-1ubuntu4.13_amd64.deb ...\n",
      "Unpacking libssl1.0.0:amd64 (1.0.2g-1ubuntu4.13) ...\n",
      "Selecting previously unselected package libpython2.7-stdlib:amd64.\n",
      "Preparing to unpack .../libpython2.7-stdlib_2.7.12-1ubuntu0~16.04.3_amd64.deb ...\n",
      "Unpacking libpython2.7-stdlib:amd64 (2.7.12-1ubuntu0~16.04.3) ...\n",
      "Selecting previously unselected package python2.7.\n",
      "Preparing to unpack .../python2.7_2.7.12-1ubuntu0~16.04.3_amd64.deb ...\n",
      "Unpacking python2.7 (2.7.12-1ubuntu0~16.04.3) ...\n",
      "Selecting previously unselected package libpython-stdlib:amd64.\n",
      "Preparing to unpack .../libpython-stdlib_2.7.12-1~16.04_amd64.deb ...\n",
      "Unpacking libpython-stdlib:amd64 (2.7.12-1~16.04) ...\n",
      "Processing triggers for libc-bin (2.23-0ubuntu10) ...\n",
      "Setting up libpython2.7-minimal:amd64 (2.7.12-1ubuntu0~16.04.3) ...\n",
      "Setting up python2.7-minimal (2.7.12-1ubuntu0~16.04.3) ...\n",
      "Linking and byte-compiling packages for runtime python2.7...\n",
      "Setting up python-minimal (2.7.12-1~16.04) ...\n",
      "Selecting previously unselected package python.\n",
      "(Reading database ... 5590 files and directories currently installed.)\n",
      "Preparing to unpack .../python_2.7.12-1~16.04_amd64.deb ...\n",
      "Unpacking python (2.7.12-1~16.04) ...\n",
      "Selecting previously unselected package libjbig0:amd64.\n",
      "Preparing to unpack .../libjbig0_2.1-3.1_amd64.deb ...\n",
      "Unpacking libjbig0:amd64 (2.1-3.1) ...\n",
      "Selecting previously unselected package libidn11:amd64.\n",
      "Preparing to unpack .../libidn11_1.32-3ubuntu1.2_amd64.deb ...\n",
      "Unpacking libidn11:amd64 (1.32-3ubuntu1.2) ...\n",
      "Selecting previously unselected package libpng12-0:amd64.\n",
      "Preparing to unpack .../libpng12-0_1.2.54-1ubuntu1.1_amd64.deb ...\n",
      "Unpacking libpng12-0:amd64 (1.2.54-1ubuntu1.1) ...\n",
      "Selecting previously unselected package ucf.\n",
      "Preparing to unpack .../archives/ucf_3.0036_all.deb ...\n",
      "Moving old data out of the way\n",
      "Unpacking ucf (3.0036) ...\n",
      "Selecting previously unselected package openssl.\n",
      "Preparing to unpack .../openssl_1.0.2g-1ubuntu4.13_amd64.deb ...\n",
      "Unpacking openssl (1.0.2g-1ubuntu4.13) ...\n",
      "Selecting previously unselected package ca-certificates.\n",
      "Preparing to unpack .../ca-certificates_20170717~16.04.1_all.deb ...\n",
      "Unpacking ca-certificates (20170717~16.04.1) ...\n",
      "Selecting previously unselected package libgeoip1:amd64.\n",
      "Preparing to unpack .../libgeoip1_1.6.9-1_amd64.deb ...\n",
      "Unpacking libgeoip1:amd64 (1.6.9-1) ...\n",
      "Selecting previously unselected package libicu55:amd64.\n",
      "Preparing to unpack .../libicu55_55.1-7ubuntu0.4_amd64.deb ...\n",
      "Unpacking libicu55:amd64 (55.1-7ubuntu0.4) ...\n",
      "Selecting previously unselected package libxdmcp6:amd64.\n",
      "Preparing to unpack .../libxdmcp6_1%3a1.1.2-1.1_amd64.deb ...\n",
      "Unpacking libxdmcp6:amd64 (1:1.1.2-1.1) ...\n",
      "Selecting previously unselected package libxcb1:amd64.\n",
      "Preparing to unpack .../libxcb1_1.11.1-1ubuntu1_amd64.deb ...\n",
      "Unpacking libxcb1:amd64 (1.11.1-1ubuntu1) ...\n",
      "Selecting previously unselected package libx11-data.\n",
      "Preparing to unpack .../libx11-data_2%3a1.6.3-1ubuntu2_all.deb ...\n",
      "Unpacking libx11-data (2:1.6.3-1ubuntu2) ...\n",
      "Selecting previously unselected package libx11-6:amd64.\n",
      "Preparing to unpack .../libx11-6_2%3a1.6.3-1ubuntu2_amd64.deb ...\n",
      "Unpacking libx11-6:amd64 (2:1.6.3-1ubuntu2) ...\n",
      "Selecting previously unselected package libxml2:amd64.\n",
      "Preparing to unpack .../libxml2_2.9.3+dfsg1-1ubuntu0.5_amd64.deb ...\n",
      "Unpacking libxml2:amd64 (2.9.3+dfsg1-1ubuntu0.5) ...\n",
      "Selecting previously unselected package wget.\n",
      "Preparing to unpack .../wget_1.17.1-1ubuntu1.4_amd64.deb ...\n",
      "Unpacking wget (1.17.1-1ubuntu1.4) ...\n",
      "Selecting previously unselected package fonts-dejavu-core.\n",
      "Preparing to unpack .../fonts-dejavu-core_2.35-1_all.deb ...\n",
      "Unpacking fonts-dejavu-core (2.35-1) ...\n",
      "Selecting previously unselected package fontconfig-config.\n",
      "Preparing to unpack .../fontconfig-config_2.11.94-0ubuntu1.1_all.deb ...\n",
      "Unpacking fontconfig-config (2.11.94-0ubuntu1.1) ...\n",
      "Selecting previously unselected package libfreetype6:amd64.\n",
      "Preparing to unpack .../libfreetype6_2.6.1-0.1ubuntu2.3_amd64.deb ...\n",
      "Unpacking libfreetype6:amd64 (2.6.1-0.1ubuntu2.3) ...\n",
      "Selecting previously unselected package libfontconfig1:amd64.\n",
      "Preparing to unpack .../libfontconfig1_2.11.94-0ubuntu1.1_amd64.deb ...\n",
      "Unpacking libfontconfig1:amd64 (2.11.94-0ubuntu1.1) ...\n",
      "Selecting previously unselected package libjpeg8:amd64.\n",
      "Preparing to unpack .../libjpeg8_8c-2ubuntu8_amd64.deb ...\n",
      "Unpacking libjpeg8:amd64 (8c-2ubuntu8) ...\n",
      "Selecting previously unselected package libtiff5:amd64.\n",
      "Preparing to unpack .../libtiff5_4.0.6-1ubuntu0.4_amd64.deb ...\n",
      "Unpacking libtiff5:amd64 (4.0.6-1ubuntu0.4) ...\n",
      "Selecting previously unselected package libvpx3:amd64.\n",
      "Preparing to unpack .../libvpx3_1.5.0-2ubuntu1_amd64.deb ...\n",
      "Unpacking libvpx3:amd64 (1.5.0-2ubuntu1) ...\n",
      "Selecting previously unselected package libxpm4:amd64.\n",
      "Preparing to unpack .../libxpm4_1%3a3.5.11-1ubuntu0.16.04.1_amd64.deb ...\n",
      "Unpacking libxpm4:amd64 (1:3.5.11-1ubuntu0.16.04.1) ...\n",
      "Selecting previously unselected package libgd3:amd64.\n",
      "Preparing to unpack .../libgd3_2.1.1-4ubuntu0.16.04.8_amd64.deb ...\n",
      "Unpacking libgd3:amd64 (2.1.1-4ubuntu0.16.04.8) ...\n",
      "Selecting previously unselected package libxslt1.1:amd64.\n",
      "Preparing to unpack .../libxslt1.1_1.1.28-2.1ubuntu0.1_amd64.deb ...\n",
      "Unpacking libxslt1.1:amd64 (1.1.28-2.1ubuntu0.1) ...\n",
      "Selecting previously unselected package nginx-common.\n",
      "Preparing to unpack .../nginx-common_1.10.3-0ubuntu0.16.04.2_all.deb ...\n",
      "Unpacking nginx-common (1.10.3-0ubuntu0.16.04.2) ...\n",
      "Selecting previously unselected package nginx-core.\n",
      "Preparing to unpack .../nginx-core_1.10.3-0ubuntu0.16.04.2_amd64.deb ...\n",
      "Unpacking nginx-core (1.10.3-0ubuntu0.16.04.2) ...\n",
      "Selecting previously unselected package nginx.\n",
      "Preparing to unpack .../nginx_1.10.3-0ubuntu0.16.04.2_all.deb ...\n",
      "Unpacking nginx (1.10.3-0ubuntu0.16.04.2) ...\n",
      "Processing triggers for libc-bin (2.23-0ubuntu10) ...\n",
      "Processing triggers for systemd (229-4ubuntu21.2) ...\n",
      "Setting up libxau6:amd64 (1:1.0.8-1) ...\n",
      "Setting up libjpeg-turbo8:amd64 (1.4.2-0ubuntu3.1) ...\n",
      "Setting up mime-support (3.59ubuntu1) ...\n",
      "Setting up libexpat1:amd64 (2.1.0-7ubuntu0.16.04.3) ...\n",
      "Setting up libffi6:amd64 (3.2.1-4) ...\n",
      "Setting up libsqlite3-0:amd64 (3.11.0-1ubuntu1) ...\n",
      "Setting up libssl1.0.0:amd64 (1.0.2g-1ubuntu4.13) ...\n",
      "debconf: unable to initialize frontend: Dialog\n",
      "debconf: (TERM is not set, so the dialog frontend is not usable.)\n",
      "debconf: falling back to frontend: Readline\n",
      "debconf: unable to initialize frontend: Readline\n",
      "debconf: (Can't locate Term/ReadLine.pm in @INC (you may need to install the Term::ReadLine module) (@INC contains: /etc/perl /usr/local/lib/x86_64-linux-gnu/perl/5.22.1 /usr/local/share/perl/5.22.1 /usr/lib/x86_64-linux-gnu/perl5/5.22 /usr/share/perl5 /usr/lib/x86_64-linux-gnu/perl/5.22 /usr/share/perl/5.22 /usr/local/lib/site_perl /usr/lib/x86_64-linux-gnu/perl-base .) at /usr/share/perl5/Debconf/FrontEnd/Readline.pm line 7.)\n",
      "debconf: falling back to frontend: Teletype\n",
      "Setting up libpython2.7-stdlib:amd64 (2.7.12-1ubuntu0~16.04.3) ...\n",
      "Setting up python2.7 (2.7.12-1ubuntu0~16.04.3) ...\n"
     ]
    },
    {
     "name": "stdout",
     "output_type": "stream",
     "text": [
      "Setting up libpython-stdlib:amd64 (2.7.12-1~16.04) ...\n",
      "Setting up python (2.7.12-1~16.04) ...\n",
      "Setting up libjbig0:amd64 (2.1-3.1) ...\n",
      "Setting up libidn11:amd64 (1.32-3ubuntu1.2) ...\n",
      "Setting up libpng12-0:amd64 (1.2.54-1ubuntu1.1) ...\n",
      "Setting up ucf (3.0036) ...\n",
      "debconf: unable to initialize frontend: Dialog\n",
      "debconf: (TERM is not set, so the dialog frontend is not usable.)\n",
      "debconf: falling back to frontend: Readline\n",
      "debconf: unable to initialize frontend: Readline\n",
      "debconf: (Can't locate Term/ReadLine.pm in @INC (you may need to install the Term::ReadLine module) (@INC contains: /etc/perl /usr/local/lib/x86_64-linux-gnu/perl/5.22.1 /usr/local/share/perl/5.22.1 /usr/lib/x86_64-linux-gnu/perl5/5.22 /usr/share/perl5 /usr/lib/x86_64-linux-gnu/perl/5.22 /usr/share/perl/5.22 /usr/local/lib/site_perl /usr/lib/x86_64-linux-gnu/perl-base .) at /usr/share/perl5/Debconf/FrontEnd/Readline.pm line 7.)\n",
      "debconf: falling back to frontend: Teletype\n",
      "Setting up openssl (1.0.2g-1ubuntu4.13) ...\n",
      "Setting up ca-certificates (20170717~16.04.1) ...\n",
      "debconf: unable to initialize frontend: Dialog\n",
      "debconf: (TERM is not set, so the dialog frontend is not usable.)\n",
      "debconf: falling back to frontend: Readline\n",
      "debconf: unable to initialize frontend: Readline\n",
      "debconf: (Can't locate Term/ReadLine.pm in @INC (you may need to install the Term::ReadLine module) (@INC contains: /etc/perl /usr/local/lib/x86_64-linux-gnu/perl/5.22.1 /usr/local/share/perl/5.22.1 /usr/lib/x86_64-linux-gnu/perl5/5.22 /usr/share/perl5 /usr/lib/x86_64-linux-gnu/perl/5.22 /usr/share/perl/5.22 /usr/local/lib/site_perl /usr/lib/x86_64-linux-gnu/perl-base .) at /usr/share/perl5/Debconf/FrontEnd/Readline.pm line 7.)\n",
      "debconf: falling back to frontend: Teletype\n",
      "Setting up libgeoip1:amd64 (1.6.9-1) ...\n",
      "Setting up libicu55:amd64 (55.1-7ubuntu0.4) ...\n",
      "Setting up libxdmcp6:amd64 (1:1.1.2-1.1) ...\n",
      "Setting up libxcb1:amd64 (1.11.1-1ubuntu1) ...\n",
      "Setting up libx11-data (2:1.6.3-1ubuntu2) ...\n",
      "Setting up libx11-6:amd64 (2:1.6.3-1ubuntu2) ...\n",
      "Setting up libxml2:amd64 (2.9.3+dfsg1-1ubuntu0.5) ...\n",
      "Setting up wget (1.17.1-1ubuntu1.4) ...\n",
      "Setting up fonts-dejavu-core (2.35-1) ...\n",
      "Setting up fontconfig-config (2.11.94-0ubuntu1.1) ...\n",
      "Setting up libfreetype6:amd64 (2.6.1-0.1ubuntu2.3) ...\n",
      "Setting up libfontconfig1:amd64 (2.11.94-0ubuntu1.1) ...\n",
      "Setting up libjpeg8:amd64 (8c-2ubuntu8) ...\n",
      "Setting up libtiff5:amd64 (4.0.6-1ubuntu0.4) ...\n",
      "Setting up libvpx3:amd64 (1.5.0-2ubuntu1) ...\n",
      "Setting up libxpm4:amd64 (1:3.5.11-1ubuntu0.16.04.1) ...\n",
      "Setting up libgd3:amd64 (2.1.1-4ubuntu0.16.04.8) ...\n",
      "Setting up libxslt1.1:amd64 (1.1.28-2.1ubuntu0.1) ...\n",
      "Setting up nginx-common (1.10.3-0ubuntu0.16.04.2) ...\n",
      "debconf: unable to initialize frontend: Dialog\n",
      "debconf: (TERM is not set, so the dialog frontend is not usable.)\n",
      "debconf: falling back to frontend: Readline\n",
      "debconf: unable to initialize frontend: Readline\n",
      "debconf: (Can't locate Term/ReadLine.pm in @INC (you may need to install the Term::ReadLine module) (@INC contains: /etc/perl /usr/local/lib/x86_64-linux-gnu/perl/5.22.1 /usr/local/share/perl/5.22.1 /usr/lib/x86_64-linux-gnu/perl5/5.22 /usr/share/perl5 /usr/lib/x86_64-linux-gnu/perl/5.22 /usr/share/perl/5.22 /usr/local/lib/site_perl /usr/lib/x86_64-linux-gnu/perl-base .) at /usr/share/perl5/Debconf/FrontEnd/Readline.pm line 7.)\n",
      "debconf: falling back to frontend: Teletype\n",
      "Setting up nginx-core (1.10.3-0ubuntu0.16.04.2) ...\n",
      "invoke-rc.d: could not determine current runlevel\n",
      "invoke-rc.d: policy-rc.d denied execution of start.\n",
      "Setting up nginx (1.10.3-0ubuntu0.16.04.2) ...\n",
      "Processing triggers for libc-bin (2.23-0ubuntu10) ...\n",
      "Processing triggers for ca-certificates (20170717~16.04.1) ...\n",
      "Updating certificates in /etc/ssl/certs...\n",
      "148 added, 0 removed; done.\n",
      "Running hooks in /etc/ca-certificates/update.d...\n",
      "done.\n",
      "Processing triggers for systemd (229-4ubuntu21.2) ...\n",
      " ---> 994cab2dc38d\n",
      "Removing intermediate container 93aebb87a6b2\n",
      "Step 5/12 : RUN wget https://bootstrap.pypa.io/get-pip.py && python get-pip.py &&     pip install numpy==1.14.5 scipy flask gevent gunicorn Pillow &&         (cd /usr/local/lib/python2.7/dist-packages/scipy/.libs; rm *; ln ../../numpy/.libs/* .) &&         rm -rf /root/.cache\n",
      " ---> Running in 5d2c304f79df\n",
      "\u001b[91m--2018-07-27 11:24:39--  https://bootstrap.pypa.io/get-pip.py\n",
      "\u001b[0m\u001b[91mResolving bootstrap.pypa.io (bootstrap.pypa.io)... \u001b[0m\u001b[91m151.101.0.175, 151.101.64.175, 151.101.128.175, ...\n",
      "Connecting to bootstrap.pypa.io (bootstrap.pypa.io)|151.101.0.175|:443... \u001b[0m\u001b[91mconnected.\n",
      "\u001b[0m\u001b[91mHTTP request sent, awaiting response... \u001b[0m\u001b[91m200 OK\n",
      "Length: 1642522 (1.6M) [text/x-python]\n",
      "Saving to: 'get-pip.py'\n",
      "\n",
      "     0K ....\u001b[0m\u001b[91m...\u001b[0m\u001b[91m...\u001b[0m\u001b[91m ..\u001b[0m\u001b[91m......\u001b[0m\u001b[91m..\u001b[0m\u001b[91m ...\u001b[0m\u001b[91m...\u001b[0m\u001b[91m..\u001b[0m\u001b[91m.. .\u001b[0m\u001b[91m......... .......\u001b[0m\u001b[91m...  3% 1.25M 1s\n",
      "    50K .......... ...\u001b[0m\u001b[91m....... .........\u001b[0m\u001b[91m. .......... .....\u001b[0m\u001b[91m.....  6% 2.79M 1s\n",
      "   100K .......... .\u001b[0m\u001b[91m......... .......\u001b[0m\u001b[91m... .......... ...\u001b[0m\u001b[91m.......  9% 6.78M 1s\n",
      "   150K .\u001b[0m\u001b[91m........\u001b[0m\u001b[91m. .......... ...\u001b[0m\u001b[91m..\u001b[0m\u001b[91m..... .......... .\u001b[0m\u001b[91m......... 12% 3.92M 1s\n",
      "   200K .......\u001b[0m\u001b[91m... .......... ...\u001b[0m\u001b[91m....... .\u001b[0m\u001b[91m........\u001b[0m\u001b[91m. .......... 15% 6.60M 0s\n",
      "   250K .....\u001b[0m\u001b[91m..... .......... .\u001b[0m\u001b[91m......... .......\u001b[0m\u001b[91m... .......... 18% 6.79M 0s\n",
      "   300K ...\u001b[0m\u001b[91m....... .........\u001b[0m\u001b[91m. .......... .....\u001b[0m\u001b[91m..... ...\u001b[0m\u001b[91m....... 21% 6.75M 0s\n",
      "   350K .\u001b[0m\u001b[91m......... .......\u001b[0m\u001b[91m... .......... ...\u001b[0m\u001b[91m....... .........\u001b[0m\u001b[91m. 24% 5.64M 0s\n",
      "   400K .......... .....\u001b[0m\u001b[91m..... .......... .\u001b[0m\u001b[91m......... .......\u001b[0m\u001b[91m... 28% 6.32M 0s\n",
      "   450K .......... ...\u001b[0m\u001b[91m....... .\u001b[0m\u001b[91m........\u001b[0m\u001b[91m. .......... .....\u001b[0m\u001b[91m..... 31% 7.29M 0s\n",
      "   500K .......... .\u001b[0m\u001b[91m......... .......\u001b[0m\u001b[91m... .......... ...\u001b[0m\u001b[91m....... 34% 6.51M 0s\n",
      "   550K .\u001b[0m\u001b[91m........\u001b[0m\u001b[91m. .......\u001b[0m\u001b[91m... .....\u001b[0m\u001b[91m..... ...\u001b[0m\u001b[91m....... .\u001b[0m\u001b[91m......... 37% 6.87M 0s\n",
      "   600K .......\u001b[0m\u001b[91m... .......... ...\u001b[0m\u001b[91m....... .........\u001b[0m\u001b[91m. .......... 40% 6.93M 0s\n",
      "   650K .....\u001b[0m\u001b[91m..... .......... .\u001b[0m\u001b[91m......... .......\u001b[0m\u001b[91m... ..........\u001b[0m\u001b[91m 43% 6.56M 0s\n",
      "   700K ...\u001b[0m\u001b[91m....... .\u001b[0m\u001b[91m........\u001b[0m\u001b[91m. .......\u001b[0m\u001b[91m... .....\u001b[0m\u001b[91m..... ...\u001b[0m\u001b[91m....... 46% 6.75M 0s\n",
      "   750K .\u001b[0m\u001b[91m........\u001b[0m\u001b[91m. .......\u001b[0m\u001b[91m... .....\u001b[0m\u001b[91m..... ...\u001b[0m\u001b[91m....... .........\u001b[0m\u001b[91m. 49% 5.02M 0s\n",
      "   800K .......... .....\u001b[0m\u001b[91m..... ...\u001b[0m\u001b[91m....... .\u001b[0m\u001b[91m......... .......\u001b[0m\u001b[91m... 52% 6.24M 0s\n",
      "   850K .......... ...\u001b[0m\u001b[91m....... .........\u001b[0m\u001b[91m. .......... .....\u001b[0m\u001b[91m..... 56%  697K 0s\n",
      "   900K .......... .\u001b[0m\u001b[91m........\u001b[0m\u001b[91m. .......\u001b[0m\u001b[91m... .......... .......... 59% 13.1M 0s\n",
      "   950K .\u001b[0m\u001b[91m......... .......... .....\u001b[0m\u001b[91m..... .......... .\u001b[0m\u001b[91m........\u001b[0m\u001b[91m. 62% 9.33M 0s\n",
      "  1000K .......... .......... .......... .........\u001b[0m\u001b[91m. .......... 65% 36.1M 0s\n",
      "  1050K .....\u001b[0m\u001b[91m..... ...\u001b[0m\u001b[91m....... .......... .......\u001b[0m\u001b[91m... .....\u001b[0m\u001b[91m..... 68% 15.6M 0s\n",
      "  1100K ...\u001b[0m\u001b[91m....... .\u001b[0m\u001b[91m........\u001b[0m\u001b[91m. .......... .....\u001b[0m\u001b[91m..... .......... 71% 8.32M 0s\n",
      "  1150K .\u001b[0m\u001b[91m......... .......\u001b[0m\u001b[91m... .......... ...\u001b[0m\u001b[91m....... .......... 74% 18.1M 0s\n",
      "  1200K .......... .....\u001b[0m\u001b[91m..... ...\u001b[0m\u001b[91m....... .\u001b[0m\u001b[91m......... .......\u001b[0m\u001b[91m... 77% 11.6M 0s\n",
      "  1250K .....\u001b[0m\u001b[91m..... ...\u001b[0m\u001b[91m....... .\u001b[0m\u001b[91m........\u001b[0m\u001b[91m. .......... .....\u001b[0m\u001b[91m..... 81% 11.9M 0s\n",
      "  1300K ...\u001b[0m\u001b[91m....... .......... .......... .......... .......... 84%  244M 0s\n",
      "  1350K .........\u001b[0m\u001b[91m. .......\u001b[0m\u001b[91m... .......... .......... .......... 87% 20.8M 0s\n",
      "  1400K .......... .......... .......... .........\u001b[0m\u001b[91m. .......... 90%  238M 0s\n",
      "  1450K .......... .......... .......... .......\u001b[0m\u001b[91m... .......... 93% 8.82M 0s\n",
      "  1500K ...\u001b[0m\u001b[91m....... .......... .......... .......... .......... 96%  202M 0s\n",
      "  1550K .......... .......... .......... .......... .......... 99%  189M 0s\n",
      "  1600K ....                                                  100% 7678G=0.3s\n",
      "\n",
      "2018-07-27 11:24:40 (5.48 MB/s) - 'get-pip.py' saved [1642522/1642522]\n",
      "\n"
     ]
    },
    {
     "name": "stdout",
     "output_type": "stream",
     "text": [
      "\u001b[0mCollecting pip\n",
      "  Downloading https://files.pythonhosted.org/packages/5f/25/e52d3f31441505a5f3af41213346e5b6c221c9e086a166f3703d2ddaf940/pip-18.0-py2.py3-none-any.whl (1.3MB)\n",
      "Collecting setuptools\n",
      "  Downloading https://files.pythonhosted.org/packages/ff/f4/385715ccc461885f3cedf57a41ae3c12b5fec3f35cce4c8706b1a112a133/setuptools-40.0.0-py2.py3-none-any.whl (567kB)\n",
      "Collecting wheel\n",
      "  Downloading https://files.pythonhosted.org/packages/81/30/e935244ca6165187ae8be876b6316ae201b71485538ffac1d718843025a9/wheel-0.31.1-py2.py3-none-any.whl (41kB)\n",
      "Installing collected packages: pip, setuptools, wheel\n",
      "Successfully installed pip-18.0 setuptools-40.0.0 wheel-0.31.1\n",
      "Collecting numpy==1.14.5\n",
      "  Downloading https://files.pythonhosted.org/packages/6a/a9/c01a2d5f7b045f508c8cefef3b079fe8c413d05498ca0ae877cffa230564/numpy-1.14.5-cp27-cp27mu-manylinux1_x86_64.whl (12.1MB)\n",
      "Collecting scipy\n",
      "  Downloading https://files.pythonhosted.org/packages/2a/f3/de9c1bd16311982711209edaa8c6caa962db30ebb6a8cc6f1dcd2d3ef616/scipy-1.1.0-cp27-cp27mu-manylinux1_x86_64.whl (30.8MB)\n",
      "Collecting flask\n",
      "  Downloading https://files.pythonhosted.org/packages/7f/e7/08578774ed4536d3242b14dacb4696386634607af824ea997202cd0edb4b/Flask-1.0.2-py2.py3-none-any.whl (91kB)\n",
      "Collecting gevent\n",
      "  Downloading https://files.pythonhosted.org/packages/34/f7/0bdf6205d8ecbbfc1d2a4611a0b19e75ce00f622d0cb23852c4c15fb8ce5/gevent-1.3.5-cp27-cp27mu-manylinux1_x86_64.whl (4.2MB)\n",
      "Collecting gunicorn\n",
      "  Downloading https://files.pythonhosted.org/packages/8c/da/b8dd8deb741bff556db53902d4706774c8e1e67265f69528c14c003644e6/gunicorn-19.9.0-py2.py3-none-any.whl (112kB)\n",
      "Collecting Pillow\n",
      "  Downloading https://files.pythonhosted.org/packages/6e/27/709a8493071ec649a56d5a3194f648ec7cd792189e994bbd2ef5d285670d/Pillow-5.2.0-cp27-cp27mu-manylinux1_x86_64.whl (2.0MB)\n",
      "Collecting Jinja2>=2.10 (from flask)\n",
      "  Downloading https://files.pythonhosted.org/packages/7f/ff/ae64bacdfc95f27a016a7bed8e8686763ba4d277a78ca76f32659220a731/Jinja2-2.10-py2.py3-none-any.whl (126kB)\n",
      "Collecting itsdangerous>=0.24 (from flask)\n",
      "  Downloading https://files.pythonhosted.org/packages/dc/b4/a60bcdba945c00f6d608d8975131ab3f25b22f2bcfe1dab221165194b2d4/itsdangerous-0.24.tar.gz (46kB)\n",
      "Collecting Werkzeug>=0.14 (from flask)\n",
      "  Downloading https://files.pythonhosted.org/packages/20/c4/12e3e56473e52375aa29c4764e70d1b8f3efa6682bef8d0aae04fe335243/Werkzeug-0.14.1-py2.py3-none-any.whl (322kB)\n",
      "Collecting click>=5.1 (from flask)\n",
      "  Downloading https://files.pythonhosted.org/packages/34/c1/8806f99713ddb993c5366c362b2f908f18269f8d792aff1abfd700775a77/click-6.7-py2.py3-none-any.whl (71kB)\n",
      "Collecting greenlet>=0.4.13; platform_python_implementation == \"CPython\" (from gevent)\n",
      "  Downloading https://files.pythonhosted.org/packages/7e/4a/de7c8b50bf0e80ef1fbe8963413e0b6993425783391988d8d442f65dd0e0/greenlet-0.4.14-cp27-cp27mu-manylinux1_x86_64.whl\n",
      "Collecting MarkupSafe>=0.23 (from Jinja2>=2.10->flask)\n",
      "  Downloading https://files.pythonhosted.org/packages/4d/de/32d741db316d8fdb7680822dd37001ef7a448255de9699ab4bfcbdf4172b/MarkupSafe-1.0.tar.gz\n",
      "Building wheels for collected packages: itsdangerous, MarkupSafe\n",
      "  Running setup.py bdist_wheel for itsdangerous: started\n",
      "  Running setup.py bdist_wheel for itsdangerous: finished with status 'done'\n",
      "  Stored in directory: /root/.cache/pip/wheels/2c/4a/61/5599631c1554768c6290b08c02c72d7317910374ca602ff1e5\n",
      "  Running setup.py bdist_wheel for MarkupSafe: started\n",
      "  Running setup.py bdist_wheel for MarkupSafe: finished with status 'done'\n",
      "  Stored in directory: /root/.cache/pip/wheels/33/56/20/ebe49a5c612fffe1c5a632146b16596f9e64676768661e4e46\n",
      "Successfully built itsdangerous MarkupSafe\n",
      "Installing collected packages: numpy, scipy, MarkupSafe, Jinja2, itsdangerous, Werkzeug, click, flask, greenlet, gevent, gunicorn, Pillow\n",
      "Successfully installed Jinja2-2.10 MarkupSafe-1.0 Pillow-5.2.0 Werkzeug-0.14.1 click-6.7 flask-1.0.2 gevent-1.3.5 greenlet-0.4.14 gunicorn-19.9.0 itsdangerous-0.24 numpy-1.14.5 scipy-1.1.0\n",
      " ---> 581048ad8a8f\n",
      "Removing intermediate container 5d2c304f79df\n",
      "Step 6/12 : ENV PYTHONUNBUFFERED TRUE\n",
      " ---> Running in 7c3230295f1d\n",
      " ---> dda3d275bebf\n",
      "Removing intermediate container 7c3230295f1d\n",
      "Step 7/12 : ENV PYTHONDONTWRITEBYTECODE TRUE\n",
      " ---> Running in 2a4a8f586300\n",
      " ---> adf2564f76cd\n",
      "Removing intermediate container 2a4a8f586300\n",
      "Step 8/12 : ENV PATH \"/opt/program:${PATH}\"\n",
      " ---> Running in c65b6495c526\n",
      " ---> 99b27dc50109\n",
      "Removing intermediate container c65b6495c526\n",
      "Step 9/12 : RUN pip install tensorflow keras\n",
      " ---> Running in 84b00741e54e\n",
      "Collecting tensorflow\n",
      "  Downloading https://files.pythonhosted.org/packages/37/ff/97d4542f805ae25bf4b65b6263515584c78bd9a6111ed78ea971eff2946a/tensorflow-1.9.0-cp27-cp27mu-manylinux1_x86_64.whl (51.2MB)\n",
      "Collecting keras\n",
      "  Downloading https://files.pythonhosted.org/packages/68/12/4cabc5c01451eb3b413d19ea151f36e33026fc0efb932bf51bcaf54acbf5/Keras-2.2.0-py2.py3-none-any.whl (300kB)\n",
      "Collecting setuptools<=39.1.0 (from tensorflow)\n",
      "  Downloading https://files.pythonhosted.org/packages/8c/10/79282747f9169f21c053c562a0baa21815a8c7879be97abd930dbcf862e8/setuptools-39.1.0-py2.py3-none-any.whl (566kB)\n",
      "Collecting astor>=0.6.0 (from tensorflow)\n",
      "  Downloading https://files.pythonhosted.org/packages/35/6b/11530768cac581a12952a2aad00e1526b89d242d0b9f59534ef6e6a1752f/astor-0.7.1-py2.py3-none-any.whl\n",
      "Collecting protobuf>=3.4.0 (from tensorflow)\n",
      "  Downloading https://files.pythonhosted.org/packages/27/e7/bf96130ebe633b08a3913da4bb25e50dac5779f1f68e51c99485423f7443/protobuf-3.6.0-cp27-cp27mu-manylinux1_x86_64.whl (7.1MB)\n",
      "Collecting gast>=0.2.0 (from tensorflow)\n",
      "  Downloading https://files.pythonhosted.org/packages/5c/78/ff794fcae2ce8aa6323e789d1f8b3b7765f601e7702726f430e814822b96/gast-0.2.0.tar.gz\n",
      "Collecting enum34>=1.1.6 (from tensorflow)\n",
      "  Downloading https://files.pythonhosted.org/packages/c5/db/e56e6b4bbac7c4a06de1c50de6fe1ef3810018ae11732a50f15f62c7d050/enum34-1.1.6-py2-none-any.whl\n",
      "Collecting six>=1.10.0 (from tensorflow)\n",
      "  Downloading https://files.pythonhosted.org/packages/67/4b/141a581104b1f6397bfa78ac9d43d8ad29a7ca43ea90a2d863fe3056e86a/six-1.11.0-py2.py3-none-any.whl\n",
      "Requirement already satisfied: wheel in /usr/local/lib/python2.7/dist-packages (from tensorflow) (0.31.1)\n",
      "Collecting absl-py>=0.1.6 (from tensorflow)\n",
      "  Downloading https://files.pythonhosted.org/packages/96/5d/18feb90462c8edaae71305716c7e8bac479fc9dface63221f808a6b95880/absl-py-0.3.0.tar.gz (84kB)\n",
      "Collecting backports.weakref>=1.0rc1 (from tensorflow)\n",
      "  Downloading https://files.pythonhosted.org/packages/88/ec/f598b633c3d5ffe267aaada57d961c94fdfa183c5c3ebda2b6d151943db6/backports.weakref-1.0.post1-py2.py3-none-any.whl\n",
      "Collecting tensorboard<1.10.0,>=1.9.0 (from tensorflow)\n",
      "  Downloading https://files.pythonhosted.org/packages/d5/98/e2e9d5afbc86cef0b2dd0f4ab791519b9bd305ea207e1e5c2f9a9f2f6da6/tensorboard-1.9.0-py2-none-any.whl (3.3MB)\n",
      "Collecting termcolor>=1.1.0 (from tensorflow)\n",
      "  Downloading https://files.pythonhosted.org/packages/8a/48/a76be51647d0eb9f10e2a4511bf3ffb8cc1e6b14e9e4fab46173aa79f981/termcolor-1.1.0.tar.gz\n",
      "Requirement already satisfied: numpy>=1.13.3 in /usr/local/lib/python2.7/dist-packages (from tensorflow) (1.14.5)\n",
      "Collecting grpcio>=1.8.6 (from tensorflow)\n",
      "  Downloading https://files.pythonhosted.org/packages/fa/53/685b9d68e5734cf8e2d13b2d4d29e6cede94714b665019a5627a623b3e21/grpcio-1.13.0-cp27-cp27mu-manylinux1_x86_64.whl (9.0MB)\n",
      "Collecting mock>=2.0.0 (from tensorflow)\n",
      "  Downloading https://files.pythonhosted.org/packages/e6/35/f187bdf23be87092bd0f1200d43d23076cee4d0dec109f195173fd3ebc79/mock-2.0.0-py2.py3-none-any.whl (56kB)\n",
      "Requirement already satisfied: scipy>=0.14 in /usr/local/lib/python2.7/dist-packages (from keras) (1.1.0)\n",
      "Collecting keras-preprocessing==1.0.1 (from keras)\n",
      "  Downloading https://files.pythonhosted.org/packages/f8/33/275506afe1d96b221f66f95adba94d1b73f6b6087cfb6132a5655b6fe338/Keras_Preprocessing-1.0.1-py2.py3-none-any.whl\n",
      "Collecting keras-applications==1.0.2 (from keras)\n",
      "  Downloading https://files.pythonhosted.org/packages/e2/60/c557075e586e968d7a9c314aa38c236b37cb3ee6b37e8d57152b1a5e0b47/Keras_Applications-1.0.2-py2.py3-none-any.whl (43kB)\n",
      "Collecting pyyaml (from keras)\n",
      "  Downloading https://files.pythonhosted.org/packages/9e/a3/1d13970c3f36777c583f136c136f804d70f500168edc1edea6daa7200769/PyYAML-3.13.tar.gz (270kB)\n"
     ]
    },
    {
     "name": "stdout",
     "output_type": "stream",
     "text": [
      "Collecting h5py (from keras)\n",
      "  Downloading https://files.pythonhosted.org/packages/33/0c/1c5dfa85e05052aa5f50969d87c67a2128dc39a6f8ce459a503717e56bd0/h5py-2.8.0-cp27-cp27mu-manylinux1_x86_64.whl (2.7MB)\n",
      "Requirement already satisfied: werkzeug>=0.11.10 in /usr/local/lib/python2.7/dist-packages (from tensorboard<1.10.0,>=1.9.0->tensorflow) (0.14.1)\n",
      "Collecting futures>=3.1.1; python_version < \"3\" (from tensorboard<1.10.0,>=1.9.0->tensorflow)\n",
      "  Downloading https://files.pythonhosted.org/packages/2d/99/b2c4e9d5a30f6471e410a146232b4118e697fa3ffc06d6a65efde84debd0/futures-3.2.0-py2-none-any.whl\n",
      "Collecting markdown>=2.6.8 (from tensorboard<1.10.0,>=1.9.0->tensorflow)\n",
      "  Downloading https://files.pythonhosted.org/packages/6d/7d/488b90f470b96531a3f5788cf12a93332f543dbab13c423a5e7ce96a0493/Markdown-2.6.11-py2.py3-none-any.whl (78kB)\n",
      "Collecting pbr>=0.11 (from mock>=2.0.0->tensorflow)\n",
      "  Downloading https://files.pythonhosted.org/packages/69/1c/98cba002ed975a91a0294863d9c774cc0ebe38e05bbb65e83314550b1677/pbr-4.2.0-py2.py3-none-any.whl (100kB)\n",
      "Collecting funcsigs>=1; python_version < \"3.3\" (from mock>=2.0.0->tensorflow)\n",
      "  Downloading https://files.pythonhosted.org/packages/69/cb/f5be453359271714c01b9bd06126eaf2e368f1fddfff30818754b5ac2328/funcsigs-1.0.2-py2.py3-none-any.whl\n",
      "Building wheels for collected packages: gast, absl-py, termcolor, pyyaml\n",
      "  Running setup.py bdist_wheel for gast: started\n",
      "  Running setup.py bdist_wheel for gast: finished with status 'done'\n",
      "  Stored in directory: /root/.cache/pip/wheels/9a/1f/0e/3cde98113222b853e98fc0a8e9924480a3e25f1b4008cedb4f\n",
      "  Running setup.py bdist_wheel for absl-py: started\n",
      "  Running setup.py bdist_wheel for absl-py: finished with status 'done'\n",
      "  Stored in directory: /root/.cache/pip/wheels/4c/16/ef/e36a23f2432e9220f8845f94e2c3abd39e7d9d1cd458d3159d\n",
      "  Running setup.py bdist_wheel for termcolor: started\n",
      "  Running setup.py bdist_wheel for termcolor: finished with status 'done'\n",
      "  Stored in directory: /root/.cache/pip/wheels/7c/06/54/bc84598ba1daf8f970247f550b175aaaee85f68b4b0c5ab2c6\n",
      "  Running setup.py bdist_wheel for pyyaml: started\n",
      "  Running setup.py bdist_wheel for pyyaml: finished with status 'done'\n",
      "  Stored in directory: /root/.cache/pip/wheels/ad/da/0c/74eb680767247273e2cf2723482cb9c924fe70af57c334513f\n",
      "Successfully built gast absl-py termcolor pyyaml\n",
      "Installing collected packages: setuptools, astor, six, protobuf, gast, enum34, absl-py, backports.weakref, futures, markdown, tensorboard, termcolor, grpcio, pbr, funcsigs, mock, tensorflow, keras-preprocessing, h5py, keras-applications, pyyaml, keras\n",
      "  Found existing installation: setuptools 40.0.0\n",
      "    Uninstalling setuptools-40.0.0:\n",
      "      Successfully uninstalled setuptools-40.0.0\n",
      "Successfully installed absl-py-0.3.0 astor-0.7.1 backports.weakref-1.0.post1 enum34-1.1.6 funcsigs-1.0.2 futures-3.2.0 gast-0.2.0 grpcio-1.13.0 h5py-2.8.0 keras-2.2.0 keras-applications-1.0.2 keras-preprocessing-1.0.1 markdown-2.6.11 mock-2.0.0 pbr-4.2.0 protobuf-3.6.0 pyyaml-3.13 setuptools-39.1.0 six-1.11.0 tensorboard-1.9.0 tensorflow-1.9.0 termcolor-1.1.0\n",
      " ---> f4ba7be54d81\n",
      "Removing intermediate container 84b00741e54e\n",
      "Step 10/12 : COPY app /opt/program\n",
      " ---> c061d320d7ac\n",
      "Removing intermediate container b41d214911ff\n",
      "Step 11/12 : WORKDIR /opt/program\n",
      " ---> 76ea3edf0875\n",
      "Removing intermediate container caf37552a105\n",
      "Step 12/12 : COPY /model /opt/ml/model\n",
      " ---> e33be04192a6\n",
      "Removing intermediate container fd1b303aee53\n",
      "Successfully built e33be04192a6\n"
     ]
    }
   ],
   "source": [
    "!image=my_model:v1.0.0\n",
    "!docker build ./container --tag $(image)"
   ]
  },
  {
   "cell_type": "markdown",
   "metadata": {},
   "source": [
    "## Local test"
   ]
  },
  {
   "cell_type": "markdown",
   "metadata": {},
   "source": [
    "Start a local webserver with the machine learning code and endpoints all set up"
   ]
  },
  {
   "cell_type": "code",
   "execution_count": 27,
   "metadata": {},
   "outputs": [
    {
     "name": "stdout",
     "output_type": "stream",
     "text": [
      "613d91b848634e3fb5bce5649fe21c39fdf1a40f74e9680dff69c5bb9acb6a57\r\n"
     ]
    }
   ],
   "source": [
    "!./container/run_local_server.sh $(image)"
   ]
  },
  {
   "cell_type": "markdown",
   "metadata": {},
   "source": [
    "This endpoint checks if the machine learning algorithms loads successfully"
   ]
  },
  {
   "cell_type": "code",
   "execution_count": 23,
   "metadata": {},
   "outputs": [
    {
     "name": "stdout",
     "output_type": "stream",
     "text": [
      "loaded model successfully!"
     ]
    }
   ],
   "source": [
    "!curl -X GET 'http://localhost:8080/ping'"
   ]
  },
  {
   "cell_type": "markdown",
   "metadata": {},
   "source": [
    "This command sends an image to the /predict endpoint, which will run the machine learning algorithm and return what it thinks is in the image."
   ]
  },
  {
   "cell_type": "code",
   "execution_count": 24,
   "metadata": {},
   "outputs": [
    {
     "name": "stdout",
     "output_type": "stream",
     "text": [
      "{\"predictions\": [{\"probability\": 0.9901767373085022, \"label\": \"beagle\"}, {\"probability\": 0.0022487046662718058, \"label\": \"Walker_hound\"}, {\"probability\": 0.0011901347897946835, \"label\": \"Brittany_spaniel\"}, {\"probability\": 0.0011802910594269633, \"label\": \"pot\"}, {\"probability\": 0.0006831124192103744, \"label\": \"Cardigan\"}], \"success\": true}"
     ]
    }
   ],
   "source": [
    "!curl -X POST -F image=@$(pwd)/images/dog.jpg 'http://localhost:8080/predict'"
   ]
  },
  {
   "cell_type": "markdown",
   "metadata": {},
   "source": [
    "ok, so we can identify that dog as being a beagle but can we determine if something is a hotdog?"
   ]
  },
  {
   "cell_type": "code",
   "execution_count": 28,
   "metadata": {},
   "outputs": [
    {
     "name": "stdout",
     "output_type": "stream",
     "text": [
      "{\"predictions\": [{\"probability\": 0.9936224818229675, \"label\": \"hotdog\"}, {\"probability\": 0.005856595002114773, \"label\": \"cheeseburger\"}, {\"probability\": 0.00016705217421986163, \"label\": \"bakery\"}, {\"probability\": 0.00010399545863037929, \"label\": \"tennis_ball\"}, {\"probability\": 9.467774361837655e-05, \"label\": \"French_loaf\"}], \"success\": true}"
     ]
    }
   ],
   "source": [
    "!curl -X POST -F image=@$(pwd)/images/hotdog.jpg 'http://localhost:8080/predict'"
   ]
  },
  {
   "cell_type": "markdown",
   "metadata": {},
   "source": [
    "When you are done with the local test you can kill the container that is running in the background."
   ]
  },
  {
   "cell_type": "code",
   "execution_count": 29,
   "metadata": {},
   "outputs": [
    {
     "name": "stdout",
     "output_type": "stream",
     "text": [
      "mylocalservice\r\n"
     ]
    }
   ],
   "source": [
    "!docker kill mylocalservice"
   ]
  },
  {
   "cell_type": "markdown",
   "metadata": {},
   "source": [
    "## Register the container\n",
    "\n",
    "Here is how to send the container in Amazon's Elastic Container Registery"
   ]
  },
  {
   "cell_type": "code",
   "execution_count": null,
   "metadata": {},
   "outputs": [],
   "source": [
    "!./container/send_container_to_amazon.sh $(image)"
   ]
  },
  {
   "cell_type": "markdown",
   "metadata": {},
   "source": [
    "# Part 2: Training and Hosting your Algorithm in Amazon SageMaker\n",
    "\n",
    "Once you have your container packaged, you can use it to train and serve models. Let's do that with the algorithm we made above.\n",
    "\n",
    "## Set up the environment\n",
    "\n",
    "Here we specify a bucket to use and the role that will be used for working with SageMaker."
   ]
  },
  {
   "cell_type": "code",
   "execution_count": null,
   "metadata": {
    "collapsed": true
   },
   "outputs": [],
   "source": [
    "# S3 prefix\n",
    "prefix = 'DEMO-scikit-byo-iris'\n",
    "\n",
    "# Define IAM role\n",
    "import boto3\n",
    "import re\n",
    "\n",
    "import os\n",
    "import numpy as np\n",
    "import pandas as pd\n",
    "from sagemaker import get_execution_role\n",
    "\n",
    "role = get_execution_role()"
   ]
  },
  {
   "cell_type": "markdown",
   "metadata": {},
   "source": [
    "## Create the session\n",
    "\n",
    "The session remembers our connection parameters to SageMaker. We'll use it to perform all of our SageMaker operations."
   ]
  },
  {
   "cell_type": "code",
   "execution_count": null,
   "metadata": {
    "collapsed": true
   },
   "outputs": [],
   "source": [
    "import sagemaker as sage\n",
    "from time import gmtime, strftime\n",
    "\n",
    "sess = sage.Session()"
   ]
  },
  {
   "cell_type": "markdown",
   "metadata": {},
   "source": [
    "## Deploy the model\n",
    "\n",
    "Deploying the model to SageMaker hosting just requires a `deploy` call on the fitted model. This call takes an instance count, instance type, and optionally serializer and deserializer functions. These are used when the resulting predictor is created on the endpoint."
   ]
  },
  {
   "cell_type": "code",
   "execution_count": null,
   "metadata": {},
   "outputs": [],
   "source": [
    "from sagemaker.predictor import csv_serializer\n",
    "predictor = tree.deploy(1, 'ml.m4.xlarge', serializer=csv_serializer)"
   ]
  },
  {
   "cell_type": "markdown",
   "metadata": {},
   "source": [
    "## Choose some data and use it for a prediction\n",
    "\n",
    "In order to do some predictions, we'll extract some of the data we used for training and do predictions against it. This is, of course, bad statistical practice, but a good way to see how the mechanism works."
   ]
  },
  {
   "cell_type": "code",
   "execution_count": null,
   "metadata": {
    "collapsed": true
   },
   "outputs": [],
   "source": [
    "shape=pd.read_csv(\"data/iris.csv\", header=None)\n",
    "\n",
    "import itertools\n",
    "\n",
    "a = [50*i for i in range(3)]\n",
    "b = [40+i for i in range(10)]\n",
    "indices = [i+j for i,j in itertools.product(a,b)]\n",
    "\n",
    "test_data=shape.iloc[indices[:-1]]\n",
    "test_X=test_data.iloc[:,1:]\n",
    "test_y=test_data.iloc[:,0]"
   ]
  },
  {
   "cell_type": "markdown",
   "metadata": {},
   "source": [
    "Prediction is as easy as calling predict with the predictor we got back from deploy and the data we want to do predictions with. The serializers take care of doing the data conversions for us."
   ]
  },
  {
   "cell_type": "code",
   "execution_count": null,
   "metadata": {},
   "outputs": [],
   "source": [
    "print(predictor.predict(test_X.values).decode('utf-8'))"
   ]
  },
  {
   "cell_type": "markdown",
   "metadata": {},
   "source": [
    "## Optional cleanup\n",
    "\n",
    "When you're done with the endpoint, you'll want to clean it up."
   ]
  },
  {
   "cell_type": "code",
   "execution_count": null,
   "metadata": {},
   "outputs": [],
   "source": [
    "sess.delete_endpoint(predictor.endpoint)"
   ]
  },
  {
   "cell_type": "code",
   "execution_count": null,
   "metadata": {},
   "outputs": [],
   "source": []
  },
  {
   "cell_type": "code",
   "execution_count": null,
   "metadata": {},
   "outputs": [],
   "source": [
    "account = sess.boto_session.client('sts').get_caller_identity()['Account']\n",
    "region = sess.boto_session.region_name\n",
    "image = '{}.dkr.ecr.{}.amazonaws.com/decision-trees-sample:latest'.format(account, region)\n",
    "\n",
    "tree = sage.estimator.Estimator(image,\n",
    "                       role, 1, 'ml.c4.2xlarge',\n",
    "                       output_path=\"s3://{}/output\".format(sess.default_bucket()),\n",
    "                       sagemaker_session=sess)\n",
    "\n",
    "tree.fit(data_location)"
   ]
  },
  {
   "cell_type": "markdown",
   "metadata": {},
   "source": [
    "## Create an estimator and fit the model\n",
    "\n",
    "In order to use SageMaker to fit our algorithm, we'll create an `Estimator` that defines how to use the container to train. This includes the configuration we need to invoke SageMaker training:\n",
    "\n",
    "* The __container name__. This is constructed as in the shell commands above.\n",
    "* The __role__. As defined above.\n",
    "* The __instance count__ which is the number of machines to use for training.\n",
    "* The __instance type__ which is the type of machine to use for training.\n",
    "* The __output path__ determines where the model artifact will be written.\n",
    "* The __session__ is the SageMaker session object that we defined above.\n",
    "\n",
    "Then we use fit() on the estimator to train against the data that we uploaded above."
   ]
  },
  {
   "cell_type": "code",
   "execution_count": null,
   "metadata": {},
   "outputs": [],
   "source": [
    "WORK_DIRECTORY = 'data'\n",
    "\n",
    "data_location = sess.upload_data(WORK_DIRECTORY, key_prefix=prefix)"
   ]
  },
  {
   "cell_type": "markdown",
   "metadata": {},
   "source": [
    "## Upload the data for training\n",
    "\n",
    "When training large models with huge amounts of data, you'll typically use big data tools, like Amazon Athena, AWS Glue, or Amazon EMR, to create your data in S3. For the purposes of this example, we're using some the classic [Iris dataset](https://en.wikipedia.org/wiki/Iris_flower_data_set), which we have included. \n",
    "\n",
    "We can use use the tools provided by the SageMaker Python SDK to upload the data to a default bucket. "
   ]
  }
 ],
 "metadata": {
  "kernelspec": {
   "display_name": "Python 3",
   "language": "python",
   "name": "python3"
  },
  "language_info": {
   "codemirror_mode": {
    "name": "ipython",
    "version": 3
   },
   "file_extension": ".py",
   "mimetype": "text/x-python",
   "name": "python",
   "nbconvert_exporter": "python",
   "pygments_lexer": "ipython3",
   "version": "3.6.4"
  }
 },
 "nbformat": 4,
 "nbformat_minor": 2
}
